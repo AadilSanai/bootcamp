{
  "cells": [
    {
      "cell_type": "markdown",
      "metadata": {},
      "source": [
        "\n",
        "# **SAINCUBE Bootcamp Lab**\n",
        "---"
      ]
    },
    {
      "cell_type": "markdown",
      "metadata": {},
      "source": [
        "\n",
        "## **Python Module Lab**\n",
        "---"
      ]
    },
    {
      "cell_type": "markdown",
      "metadata": {
        "id": "iSQCl3G5RYiy"
      },
      "source": [
        "### **Variables and Data-type**\n",
        "---"
      ]
    },
    {
      "cell_type": "markdown",
      "metadata": {},
      "source": [
        "1. **Declare a variable called `myName` & assign to it a string that represents your Full Name.**"
      ]
    },
    {
      "cell_type": "code",
      "execution_count": 2,
      "metadata": {},
      "outputs": [],
      "source": [
        "myName =\"Muhammad Aadil Sanai\"\n"
      ]
    },
    {
      "cell_type": "markdown",
      "metadata": {},
      "source": [
        "2. **Declare a variable, titled `message` and assign “Hello World” to the variable `message` and print the message.**"
      ]
    },
    {
      "cell_type": "code",
      "execution_count": 1,
      "metadata": {},
      "outputs": [
        {
          "name": "stdout",
          "output_type": "stream",
          "text": [
            "Hello World\n"
          ]
        }
      ],
      "source": [
        "message = \"Hello World\"\n",
        "print (message)"
      ]
    },
    {
      "cell_type": "markdown",
      "metadata": {},
      "source": [
        "3. **Declare a variable called `email` & assign to it a string that represents your Email Address (e.g. abc@xyz.com).**\n",
        "   \n",
        "   Print the below mentioned message. *(Hint: use string concatenation)*.\n",
        "\n",
        "   **Expected output:** \n",
        "\n",
        "   My e-mail address is: abc@xyz.com"
      ]
    },
    {
      "cell_type": "code",
      "execution_count": 4,
      "metadata": {},
      "outputs": [
        {
          "name": "stdout",
          "output_type": "stream",
          "text": [
            "My e-mail address is: abc@xyz.com\n"
          ]
        }
      ],
      "source": [
        "email=\"abc@xyz.com\"\n",
        "print(\"My e-mail address is:\",email)"
      ]
    },
    {
      "cell_type": "markdown",
      "metadata": {},
      "source": [
        "4. **Declare a variable called `book` & give it the value “Think Python”. Print the following message:**, <br>\n",
        "I am trying to learn from the book ‘Think Python’\n"
      ]
    },
    {
      "cell_type": "code",
      "execution_count": 5,
      "metadata": {},
      "outputs": [
        {
          "name": "stdout",
          "output_type": "stream",
          "text": [
            "I am trying to learn from the book Think python\n"
          ]
        }
      ],
      "source": [
        "book= \"Think python\"\n",
        "print(\"I am trying to learn from the book\",book)"
      ]
    },
    {
      "cell_type": "markdown",
      "metadata": {},
      "source": [
        "**5. Declare the variables & show the details giving meaning to data.**\n",
        "\n",
        "**Student Bio Data**\n",
        "\n",
        "    Please Enter Your Name: Aisha Batool  \n",
        "    Please Enter Your Age: 17  \n",
        "    Please Enter Your University Name: Habib University  \n",
        "    Please Enter Your Course Name: Computational Thinking-1  \n",
        "\n",
        "**Expected Output:**\n",
        "\n",
        "    My name is Aisha Batool\n",
        "    I am 17 Years Old\n",
        "    I study in Habib University\n",
        "    I am enrolled in Computational Thinking-1 Course."
      ]
    },
    {
      "cell_type": "code",
      "execution_count": 6,
      "metadata": {},
      "outputs": [
        {
          "name": "stdout",
          "output_type": "stream",
          "text": [
            "My name is Aisha Batool\n",
            "I am 17 Years Old\n",
            "I study in Habib University\n",
            "I am enrolled in Computational Thinking-1 Course.\n"
          ]
        }
      ],
      "source": [
        "name = \"Aisha Batool\"\n",
        "age = 17\n",
        "university_name = \"Habib University\"\n",
        "course_name = \"Computational Thinking-1\"\n",
        "print(\"My name is\", name)\n",
        "print(f\"I am {age} Years Old\")\n",
        "print(\"I study in\", university_name)\n",
        "print(\"I am enrolled in\", course_name, \"Course.\")"
      ]
    },
    {
      "cell_type": "markdown",
      "metadata": {},
      "source": [
        "**6.  A visitor visits an online clothing store `www.xyzClothing.com`. Write a python script to store in variables the following information:**<br>\n",
        "    `a) Visitor’s name`<br>\n",
        "    `b) Product title`<br>\n",
        "    `c) Quantity i.e. how many products a visitor wants to order`<br>\n",
        "**Show the following message in your browser:**<br> `“John Doe ordered 5 T-shirt(s) on XYZ Clothing store”.`"
      ]
    },
    {
      "cell_type": "code",
      "execution_count": 7,
      "metadata": {},
      "outputs": [
        {
          "name": "stdout",
          "output_type": "stream",
          "text": [
            "John Doe ordered 5 T-shirt(s) on XYZ Clothing store.\n"
          ]
        }
      ],
      "source": [
        "visitor_name = \"John Doe\"\n",
        "product_title = \"T-shirt\"\n",
        "quantity = 5\n",
        "message = f\"{visitor_name} ordered {quantity} {product_title}(s) on XYZ Clothing store.\"\n",
        "print(message)"
      ]
    },
    {
      "cell_type": "markdown",
      "metadata": {
        "id": "u0G3JlV7KQzg"
      },
      "source": [
        "**7. Write a program that obtains four integer values from the user and displays the sum & the product. <br>**\n",
        "`Insert 1st number:` 2 <br>\n",
        "`Insert 2nd number:` 5 <br>\n",
        "`Insert 3rd number:` 7 <br>\n",
        "`Insert 4th number:` 9<br>\n",
        "`Sum:` 23 <br>\n",
        "`Product:` 630 <br>"
      ]
    },
    {
      "cell_type": "code",
      "execution_count": 8,
      "metadata": {},
      "outputs": [
        {
          "name": "stdout",
          "output_type": "stream",
          "text": [
            "Sum: 23\n",
            "Product: 630\n"
          ]
        }
      ],
      "source": [
        "num1 = int(input(\"Insert 1st number: \"))\n",
        "num2 = int(input(\"Insert 2nd number: \"))\n",
        "num3 = int(input(\"Insert 3rd number: \"))\n",
        "num4 = int(input(\"Insert 4th number: \"))\n",
        "sum = num1 + num2 + num3 + num4\n",
        "product = num1 * num2 * num3 * num4\n",
        "print(\"Sum:\", sum)\n",
        "print(\"Product:\", product)"
      ]
    },
    {
      "cell_type": "markdown",
      "metadata": {},
      "source": [
        "**8. Write a program that obtains `four` float values from the user and displays the `sum` & the `product`.**"
      ]
    },
    {
      "cell_type": "code",
      "execution_count": 9,
      "metadata": {},
      "outputs": [
        {
          "name": "stdout",
          "output_type": "stream",
          "text": [
            "Sum: 23.0\n",
            "Product: 630.0\n"
          ]
        }
      ],
      "source": [
        "num1 = float(input(\"Insert 1st number: \"))\n",
        "num2 = float(input(\"Insert 2nd number: \"))\n",
        "num3 = float(input(\"Insert 3rd number: \"))\n",
        "num4 = float(input(\"Insert 4th number: \"))\n",
        "sum = num1 + num2 + num3 + num4\n",
        "product = num1 * num2 * num3 * num4\n",
        "print(\"Sum:\", sum)\n",
        "print(\"Product:\", product)"
      ]
    },
    {
      "cell_type": "markdown",
      "metadata": {},
      "source": [
        "**9. Declare a variable called birthYear & assign to it your birth year. Also Print the type of your variable using type(). Print the following message:**\n",
        "\n",
        "My birth year is 1990  \n",
        "Data Type of my declared variable is `<class 'int'>`\n"
      ]
    },
    {
      "cell_type": "code",
      "execution_count": 10,
      "metadata": {},
      "outputs": [
        {
          "name": "stdout",
          "output_type": "stream",
          "text": [
            "My birth year is 1990\n",
            "Data Type of my declared variable is <class 'int'>\n"
          ]
        }
      ],
      "source": [
        "birthYear = 1990\n",
        "print(\"My birth year is\", birthYear)\n",
        "print(\"Data Type of my declared variable is\", type(birthYear))"
      ]
    },
    {
      "cell_type": "markdown",
      "metadata": {},
      "source": [
        "**10. Print the following by using one variable name only:**\n",
        "\n",
        "**PIZZA**  \n",
        "**PIZZ**  \n",
        "**PIZ**  \n",
        "**PI**  \n",
        "**P**\n"
      ]
    },
    {
      "cell_type": "code",
      "execution_count": 14,
      "metadata": {},
      "outputs": [
        {
          "name": "stdout",
          "output_type": "stream",
          "text": [
            "PIZZA\n",
            "PIZZ\n",
            "PIZ\n",
            "PI\n",
            "P\n"
          ]
        }
      ],
      "source": [
        "pizza = \"PIZZA\"\n",
        "\n",
        "print(pizza)  # prints PIZZA\n",
        "print(pizza[:-1])  # prints PIZZ\n",
        "print(pizza[:-2])  # prints PIZ\n",
        "print(pizza[:-3])  # prints PI\n",
        "print(pizza[:-4])  # prints P"
      ]
    },
    {
      "cell_type": "markdown",
      "metadata": {
        "id": "cRnBt7a0SE4M"
      },
      "source": [
        "---\n",
        "### **Operators**\n",
        "---"
      ]
    },
    {
      "cell_type": "markdown",
      "metadata": {
        "id": "sWvHymMgu_Ll"
      },
      "source": [
        "**1. Write a program that takes two numbers & adds them in a new variable. Print the result.**\n",
        "\n",
        "Input Number 1: 13  \n",
        "Input Number 2: 9  \n",
        "Sum: 22\n"
      ]
    },
    {
      "cell_type": "code",
      "execution_count": 20,
      "metadata": {},
      "outputs": [
        {
          "name": "stdout",
          "output_type": "stream",
          "text": [
            "Input Number 1: 13\n",
            "Input Number 2: 9\n",
            "Sum: 22\n"
          ]
        }
      ],
      "source": [
        "input_number_1 =13\n",
        "print(\"Input Number 1:\", input_number_1)\n",
        "input_number_2 =9\n",
        "print(\"Input Number 2:\", input_number_2)\n",
        "sum=input_number_1+input_number_2\n",
        "print(\"Sum:\",sum)"
      ]
    },
    {
      "cell_type": "markdown",
      "metadata": {},
      "source": [
        "**2. Repeat Q1 for subtraction, multiplication, division & modulus.**\n",
        "\n",
        "Input Number 1: 13  \n",
        "Input Number 2: 9  \n",
        "Sum: 22  \n",
        "Subtract: 4  \n",
        "Multiply: 117  \n",
        "Divide: 1.44  \n",
        "Modulus: 4\n"
      ]
    },
    {
      "cell_type": "code",
      "execution_count": 24,
      "metadata": {},
      "outputs": [
        {
          "name": "stdout",
          "output_type": "stream",
          "text": [
            "Input Number 1: 13\n",
            "Input Number 2: 9\n",
            "Sum: 22\n",
            "Subtract: 4\n",
            "Multiply: 117\n",
            "Divide: 1.4444444444444444\n",
            "Modulus: 4\n"
          ]
        }
      ],
      "source": [
        "input_number_1 =13\n",
        "print(\"Input Number 1:\", input_number_1)\n",
        "input_number_2 =9\n",
        "print(\"Input Number 2:\", input_number_2)\n",
        "sum=input_number_1+input_number_2\n",
        "print(\"Sum:\",sum)\n",
        "subtract=input_number_1-input_number_2\n",
        "print(\"Subtract:\",subtract)\n",
        "multiply=input_number_1*input_number_2\n",
        "print(\"Multiply:\",multiply)\n",
        "divide=input_number_1/input_number_2\n",
        "print(\"Divide:\",divide)\n",
        "modulus=input_number_1%input_number_2\n",
        "print(\"Modulus:\",modulus)"
      ]
    },
    {
      "cell_type": "markdown",
      "metadata": {},
      "source": [
        "**3. Do the following using Mathematic Expressions**\n",
        "\n",
        "a) Declare a variable & Initialize the variable with some number.  \n",
        "b) Show the value of variable in your browser like “Initial value: 3”.  \n",
        "c) Add 7 to the variable.  \n",
        "d) Show the value of variable in your browser like “Value after addition is: 10”.  \n",
        "e) Show the remainder after dividing the variable’s value by 3. Output: “The remainder is: 1”.\n"
      ]
    },
    {
      "cell_type": "code",
      "execution_count": 27,
      "metadata": {},
      "outputs": [
        {
          "name": "stdout",
          "output_type": "stream",
          "text": [
            "initial_value: 3\n",
            "value after additon is: 10\n",
            "the remainder is: 1\n"
          ]
        }
      ],
      "source": [
        "initial_value=3\n",
        "print(\"initial_value:\", initial_value)\n",
        "new_variable=7+initial_value\n",
        "print(\"value after additon is:\", new_variable)\n",
        "remainder=new_variable%3\n",
        "print(\"the remainder is:\", remainder)\n",
        "\n"
      ]
    },
    {
      "cell_type": "markdown",
      "metadata": {},
      "source": [
        "**4. Cost of one movie ticket is 600 PKR. Store ticket price in a variable & calculate the cost of buying 5 tickets to a movie.**\n",
        "\n",
        "Total Cost to buy 5 tickets to a movie is 3000 PKR\n"
      ]
    },
    {
      "cell_type": "code",
      "execution_count": 34,
      "metadata": {},
      "outputs": [
        {
          "name": "stdout",
          "output_type": "stream",
          "text": [
            "Total cost to buy 5 tickets to a movie is 3000 PKR\n"
          ]
        }
      ],
      "source": [
        "Cost_of_1_ticket= 600\n",
        "total_cost_of_5_ticket=int(Cost_of_1_ticket*5)\n",
        "print(\"Total cost to buy 5 tickets to a movie is\", total_cost_of_5_ticket,\"PKR\")\n",
        "\n"
      ]
    },
    {
      "cell_type": "markdown",
      "metadata": {},
      "source": [
        "**5. Take input total marks & marks obtained by a student. Compute the percentage & print the result.**\n",
        "\n",
        "Marks Sheet  \n",
        "Total Marks: 1200  \n",
        "Marks Obtained: 900  \n",
        "Percentage: 75%\n"
      ]
    },
    {
      "cell_type": "code",
      "execution_count": 40,
      "metadata": {},
      "outputs": [
        {
          "name": "stdout",
          "output_type": "stream",
          "text": [
            "Marks Sheet\n",
            "Total Marks: 1200\n",
            "Marks Obtained: 900\n",
            "Percentage: 75.00%\n"
          ]
        }
      ],
      "source": [
        "total_marks = int(input(\"Enter total marks: \"))\n",
        "marks_obtained = int(input(\"Enter marks obtained: \"))\n",
        "percentage = (marks_obtained / total_marks) * 100\n",
        "print(\"Marks Sheet\")\n",
        "print(\"Total Marks:\", total_marks)\n",
        "print(\"Marks Obtained:\", marks_obtained)\n",
        "print(\"Percentage: {:.2f}%\".format(percentage))"
      ]
    },
    {
      "cell_type": "markdown",
      "metadata": {},
      "source": [
        "**6. Write a program to implement the checkout process of a shopping cart system for an e-commerce website. Store the following in variables:**\n",
        "\n",
        "a) Price of item 1  \n",
        "b) Price of item 2  \n",
        "c) Ordered quantity of item 1  \n",
        "d) Ordered quantity of item 2  \n",
        "e) Shipping charges  \n",
        "\n",
        "Compute the total cost & print the receipt.  \n",
        "\n",
        "**Shopping Cart**\n",
        "\n",
        "Price of Item#1 is 560  \n",
        "Quantity of Item#1 is 2  \n",
        "Price of Item#2 is 200  \n",
        "Quantity of Item#2 is 5  \n",
        "Shipping Charges: 150  \n",
        "\n",
        "**Total Cost of your order is 2270 PKR**\n"
      ]
    },
    {
      "cell_type": "code",
      "execution_count": 43,
      "metadata": {},
      "outputs": [
        {
          "name": "stdout",
          "output_type": "stream",
          "text": [
            "Shopping Cart\n",
            "Price of Item#1 is 560 PKR\n",
            "Quantity of Item#1 is 2\n",
            "Price of Item#2 is 200 PKR\n",
            "Quantity of Item#2 is 5\n",
            "Shipping Charges: 150 PKR\n",
            "Total Cost of your order is 917 PKR\n"
          ]
        }
      ],
      "source": [
        "Price_of_item_1=560\n",
        "Price_of_item_2=200\n",
        "quantity_of_item1=2\n",
        "quantity_of_item2=5\n",
        "shippping_charges=150\n",
        "total_cost_item1=Price_of_item_1+quantity_of_item1\n",
        "total_cost_item2=Price_of_item_2+quantity_of_item2\n",
        "total_cost=total_cost_item1+total_cost_item2+shippping_charges\n",
        "print(\"Shopping Cart\")\n",
        "print(\"Price of Item#1 is\", Price_of_item_1, \"PKR\")\n",
        "print(\"Quantity of Item#1 is\", quantity_of_item1,)\n",
        "print(\"Price of Item#2 is\", Price_of_item_2, \"PKR\")\n",
        "print(\"Quantity of Item#2 is\", quantity_of_item2)\n",
        "print(\"Shipping Charges:\", shippping_charges, \"PKR\")\n",
        "print(\"Total Cost of your order is\", total_cost, \"PKR\")\n",
        "\n"
      ]
    },
    {
      "cell_type": "markdown",
      "metadata": {
        "id": "Z3zXDznyW5cE"
      },
      "source": [
        "---\n",
        "## **Control Structure**\n"
      ]
    },
    {
      "cell_type": "markdown",
      "metadata": {
        "id": "8veqQrUbOPsh"
      },
      "source": [
        "### **Conditional Statements**\n",
        "---"
      ]
    },
    {
      "cell_type": "markdown",
      "metadata": {},
      "source": [
        "**1. Write a program to check whether the given input number is divisible by 3 or else show a message “Number is not divisible by 3”.**\n"
      ]
    },
    {
      "cell_type": "code",
      "execution_count": 46,
      "metadata": {},
      "outputs": [
        {
          "name": "stdout",
          "output_type": "stream",
          "text": [
            "the number is divisible by 3\n"
          ]
        }
      ],
      "source": [
        "num=int(input(\"enter a number:\"))\n",
        "if num%3==0:\n",
        "    print(\"the number is divisible by 3\")\n",
        "else: print(\"the number is not divisible by 3\")\n",
        "\n",
        "#lets check the number 15\n"
      ]
    },
    {
      "cell_type": "markdown",
      "metadata": {},
      "source": [
        "**2. Write a program that checks whether the given input is an even number or an odd number.**"
      ]
    },
    {
      "cell_type": "code",
      "execution_count": 49,
      "metadata": {},
      "outputs": [
        {
          "name": "stdout",
          "output_type": "stream",
          "text": [
            "this number is an odd number\n"
          ]
        }
      ],
      "source": [
        "num=int(input(\"enter a number:\"))\n",
        "if num%2==0:\n",
        "    print(\"this number is an even number\")\n",
        "\n",
        "else: print(\"this number is an odd number\")\n",
        "#lets verify the number \"5\""
      ]
    },
    {
      "cell_type": "markdown",
      "metadata": {},
      "source": [
        "**3. Write an if/else statement with the following condition:**\n",
        "\n",
        "If the variable `age` is greater than 18, output \"Old enough\", otherwise output \"Too young\".\n"
      ]
    },
    {
      "cell_type": "code",
      "execution_count": 50,
      "metadata": {},
      "outputs": [
        {
          "name": "stdout",
          "output_type": "stream",
          "text": [
            "old  enough\n"
          ]
        }
      ],
      "source": [
        "age=int(input(\"enter age\"))\n",
        "if age >18:\n",
        "    print(\"old  enough\")\n",
        "else:print(\"Too young\")\n",
        "\n",
        "\n",
        "#lets chek the age \"24\""
      ]
    },
    {
      "cell_type": "markdown",
      "metadata": {},
      "source": [
        "**4. Write a program that prompts the user for their name, and then displays a special greeting to that person if their name is the same as yours. If the name entered by the user is anything other than your name, your code should not produce any output.**"
      ]
    },
    {
      "cell_type": "code",
      "execution_count": 55,
      "metadata": {},
      "outputs": [
        {
          "name": "stdout",
          "output_type": "stream",
          "text": [
            "Hey there young man!\n"
          ]
        }
      ],
      "source": [
        "My_name=\"Aadil\"\n",
        "name=input(\"Enter your name\")\n",
        "if name== My_name:\n",
        "    print(\"Hey there young man!\")\n"
      ]
    },
    {
      "cell_type": "markdown",
      "metadata": {},
      "source": [
        "**5. Write a program that takes a calendar year in YYYY format in a variable. Check & notify the user whether it is a leap year or not.**"
      ]
    },
    {
      "cell_type": "code",
      "execution_count": 2,
      "metadata": {},
      "outputs": [
        {
          "name": "stdout",
          "output_type": "stream",
          "text": [
            "2016 is a leap year.\n"
          ]
        }
      ],
      "source": [
        "year=int(input(\"enter year in the format YYYY:\"))\n",
        "if year % 4 == 0 and (year % 100 != 0 or year % 400 == 0):\n",
        "    print(f\"{year} is a leap year.\")\n",
        "else:\n",
        "    print(f=\"{year} is not a leap year.\")\n",
        "\n",
        "#lets check 2016"
      ]
    },
    {
      "cell_type": "markdown",
      "metadata": {},
      "source": [
        "**6. Write a Python program that accepts two integers and displays the larger. Also, show if the two integers are equal.**"
      ]
    },
    {
      "cell_type": "code",
      "execution_count": 4,
      "metadata": {},
      "outputs": [
        {
          "name": "stdout",
          "output_type": "stream",
          "text": [
            "num2 is greater\n"
          ]
        }
      ],
      "source": [
        "num1=int(input(\"enter first number:\"))\n",
        "num2=int(input(\"enter second number\"))\n",
        "if num1>num2:\n",
        "    print(\"num1 is greater\")\n",
        "elif num2>num1:\n",
        "    print(\"num2 is greater\")\n",
        "else: print(\"num1 and num2 are equal\")\n",
        "#lets give the input num1 as 5 and num2 as 10"
      ]
    },
    {
      "cell_type": "markdown",
      "metadata": {},
      "source": [
        "**7. Write a program that takes a character (i.e., string of length 1) and returns true if it is a vowel, false otherwise.**"
      ]
    },
    {
      "cell_type": "code",
      "execution_count": 7,
      "metadata": {},
      "outputs": [
        {
          "name": "stdout",
          "output_type": "stream",
          "text": [
            "f is not a vowel.\n"
          ]
        }
      ],
      "source": [
        "def is_vowel(char):\n",
        "    char = char.lower()\n",
        "    if char == 'a' or char == 'e' or char == 'i' or char == 'o' or char == 'u':\n",
        "        return True\n",
        "    else:\n",
        "        return False\n",
        "\n",
        "char = input(\"Enter a character: \")\n",
        "if is_vowel(char):\n",
        "    print(\"This is a vowel, Python!\")\n",
        "else:\n",
        "    print(f\"{char} is not a vowel.\")\n",
        "    #lets check whether \"F\" is a vowel or not"
      ]
    },
    {
      "cell_type": "markdown",
      "metadata": {},
      "source": [
        "**8. Write a program that**\n",
        "\n",
        "a) Stores the correct password in a variable.  \n",
        "b) Asks the user to enter his/her password.  \n",
        "c) Validates the two passwords:  \n",
        "            i. Check if the user has entered a password. If not, then give the message `\"Please enter your password\".`<br>\n",
        "            ii. Check if both passwords are the same. If they are the same, show the message `\"Correct! The password you entered matches the original password\".`<br>\n",
        "            iii. Show `\"Incorrect password\"` otherwise.\n"
      ]
    },
    {
      "cell_type": "code",
      "execution_count": 11,
      "metadata": {},
      "outputs": [
        {
          "name": "stdout",
          "output_type": "stream",
          "text": [
            "Correct! The password you entered matches the original password\n"
          ]
        }
      ],
      "source": [
        "correct_password=1234567\n",
        "user_entered_password=int(input(\"enter the password\"))\n",
        "try:\n",
        "    if user_entered_password==correct_password:\n",
        "        print(\"Correct! The password you entered matches the original password\")\n",
        "except:\n",
        "    print(\"Incorrect password\")\n",
        "    #lets enter correct password\n",
        "    "
      ]
    },
    {
      "cell_type": "markdown",
      "metadata": {},
      "source": [
        "**9. Write a program to display the message “Hello World” 5 times in your browser using while and for loop.**"
      ]
    },
    {
      "cell_type": "code",
      "execution_count": 13,
      "metadata": {},
      "outputs": [
        {
          "name": "stdout",
          "output_type": "stream",
          "text": [
            "Hello World\n",
            "Hello World\n",
            "Hello World\n",
            "Hello World\n",
            "Hello World\n",
            "Hello World\n",
            "Hello World\n",
            "Hello World\n",
            "Hello World\n",
            "Hello World\n"
          ]
        }
      ],
      "source": [
        "#using whiile loop\n",
        "i = 0\n",
        "while i < 5:\n",
        "    print(\"Hello World\")\n",
        "    i += 1\n",
        "\n",
        "#using for loop\n",
        "for i in range(5):\n",
        "    print(\"Hello World\")"
      ]
    },
    {
      "cell_type": "markdown",
      "metadata": {},
      "source": [
        "**10. Display numbers from a list using a for loop.**"
      ]
    },
    {
      "cell_type": "code",
      "execution_count": 14,
      "metadata": {},
      "outputs": [
        {
          "name": "stdout",
          "output_type": "stream",
          "text": [
            "1\n",
            "2\n",
            "3\n",
            "4\n",
            "5\n",
            "6\n",
            "7\n",
            "8\n",
            "9\n",
            "10\n"
          ]
        }
      ],
      "source": [
        "numbers = [1, 2, 3, 4, 5, 6, 7, 8, 9, 10]\n",
        "\n",
        "for num in numbers:\n",
        "    print(num)"
      ]
    },
    {
      "cell_type": "markdown",
      "metadata": {},
      "source": [
        "**11. Print a list in reverse order using a loop.**"
      ]
    },
    {
      "cell_type": "code",
      "execution_count": 16,
      "metadata": {},
      "outputs": [
        {
          "name": "stdout",
          "output_type": "stream",
          "text": [
            "List after reverse :  [5, 4, 3, 2, 1]\n"
          ]
        }
      ],
      "source": [
        "original_list = [1, 2, 3, 4, 5]\n",
        "reversed_list = []\n",
        "for value in original_list:\n",
        "  reversed_list = [value] + reversed_list\n",
        "print(\"List after reverse : \", reversed_list)"
      ]
    },
    {
      "cell_type": "markdown",
      "metadata": {},
      "source": [
        "**12. Display the Fibonacci series up to 10 terms using a loop.**"
      ]
    },
    {
      "cell_type": "code",
      "execution_count": 17,
      "metadata": {},
      "outputs": [
        {
          "name": "stdout",
          "output_type": "stream",
          "text": [
            "0\n",
            "1\n",
            "1\n",
            "2\n",
            "3\n",
            "5\n",
            "8\n",
            "13\n",
            "21\n",
            "34\n"
          ]
        }
      ],
      "source": [
        "\n",
        "a, b = 0, 1\n",
        "for i in range(10):\n",
        "    print(a)\n",
        "    a, b = b, a + b"
      ]
    },
    {
      "cell_type": "markdown",
      "metadata": {},
      "source": [
        "**13. Use a loop to display elements from a given list present at odd index positions.**"
      ]
    },
    {
      "cell_type": "code",
      "execution_count": 18,
      "metadata": {},
      "outputs": [
        {
          "name": "stdout",
          "output_type": "stream",
          "text": [
            "20\n",
            "40\n",
            "60\n",
            "80\n",
            "100\n"
          ]
        }
      ],
      "source": [
        "my_list = [10, 20, 30, 40, 50, 60, 70, 80, 90, 100]\n",
        "\n",
        "for i in range(1, len(my_list), 2):\n",
        "    print(my_list[i])"
      ]
    },
    {
      "cell_type": "markdown",
      "metadata": {},
      "source": [
        "**14. Write a program to enter numbers until the user enters zero, and at the end, display the count of positive and negative numbers entered.**"
      ]
    },
    {
      "cell_type": "code",
      "execution_count": 20,
      "metadata": {},
      "outputs": [
        {
          "name": "stdout",
          "output_type": "stream",
          "text": [
            "Count of positive numbers:  0\n",
            "Count of negative numbers:  0\n"
          ]
        }
      ],
      "source": [
        "positive_count = 0\n",
        "negative_count = 0\n",
        "\n",
        "while True:\n",
        "    num = int(input(\"Enter a number (0 to quit): \"))\n",
        "    if num == 0:\n",
        "        break\n",
        "    elif num > 0:\n",
        "        positive_count += 1\n",
        "    else:\n",
        "        negative_count += 1\n",
        "\n",
        "print(\"Count of positive numbers: \", positive_count)\n",
        "print(\"Count of negative numbers: \", negative_count)\n",
        "# lets give 0 as input"
      ]
    },
    {
      "cell_type": "markdown",
      "metadata": {},
      "source": [
        "**15. Write a program to print all the characters in the string 'PYTHON' using a loop.**"
      ]
    },
    {
      "cell_type": "code",
      "execution_count": 21,
      "metadata": {},
      "outputs": [
        {
          "name": "stdout",
          "output_type": "stream",
          "text": [
            "P\n",
            "Y\n",
            "T\n",
            "H\n",
            "O\n",
            "N\n"
          ]
        }
      ],
      "source": [
        "string = 'PYTHON'\n",
        "\n",
        "for char in string:\n",
        "    print(char)"
      ]
    },
    {
      "cell_type": "markdown",
      "metadata": {},
      "source": [
        "**16. Write a program to repeatedly print the value of the variable num which is input by the user. Value should be decreasing by 0.5 each time, as long as the value remains positive.**\n",
        "\n",
        "Enter a number: 5  \n",
        "5, 4.5, 4, 3.5, 3, 2.5, 2, 1.5, 1, 0.5, 0"
      ]
    },
    {
      "cell_type": "code",
      "execution_count": 22,
      "metadata": {},
      "outputs": [
        {
          "name": "stdout",
          "output_type": "stream",
          "text": [
            "5.0\n",
            "4.5\n",
            "4.0\n",
            "3.5\n",
            "3.0\n",
            "2.5\n",
            "2.0\n",
            "1.5\n",
            "1.0\n",
            "0.5\n"
          ]
        }
      ],
      "source": [
        "num = float(input(\"Enter a number: \"))\n",
        "\n",
        "while num > 0:\n",
        "    print(num)\n",
        "    num -= 0.5"
      ]
    },
    {
      "cell_type": "markdown",
      "metadata": {
        "id": "fltLOerWIfx6"
      },
      "source": [
        "---\n",
        "### **Functions**\n",
        "---"
      ]
    },
    {
      "cell_type": "markdown",
      "metadata": {},
      "source": [
        "**1. Write a function that adds two numbers `(input by user)` and returns the sum of two numbers.**"
      ]
    },
    {
      "cell_type": "code",
      "execution_count": 25,
      "metadata": {},
      "outputs": [
        {
          "name": "stdout",
          "output_type": "stream",
          "text": [
            "9\n"
          ]
        }
      ],
      "source": [
        "a=int(input())\n",
        "b=int(input())\n",
        "def addition (a,b):\n",
        "    return a+b\n",
        "print(addition(a,b))\n",
        "\n",
        "# lets input a=5 and b=4\n",
        "\n",
        "    "
      ]
    },
    {
      "cell_type": "markdown",
      "metadata": {},
      "source": [
        "**2. Calculator:**\n",
        "\n",
        "Write a function that takes three arguments `num1`, `num2`, and `operator` and computes the desired operation. Return and show the desired result on your screen.\n"
      ]
    },
    {
      "cell_type": "code",
      "execution_count": 29,
      "metadata": {},
      "outputs": [
        {
          "name": "stdout",
          "output_type": "stream",
          "text": [
            "The result is 20.0\n"
          ]
        }
      ],
      "source": [
        "def calculate (num1,num2,operator):\n",
        "    if operator == '+':\n",
        "        return num1 + num2\n",
        "    elif operator == '-':\n",
        "        return num1 - num2\n",
        "    elif operator == '*':\n",
        "        return num1 * num2\n",
        "    elif operator == '/':\n",
        "        if num2 == 0:\n",
        "            return \"Error: Division by zero\"\n",
        "        else:\n",
        "            return num1 / num2\n",
        "    else:\n",
        "        return \"Error: Invalid operator\"\n",
        "num1=float(input(\"enter the first number:\"))\n",
        "num2=float(input(\"enter the second number:\"))\n",
        "operator=input(\"enter the operator (+,-,*,/):\")\n",
        "result= calculate(num1,num2,operator)\n",
        "print(\"The result is\", result)\n",
        "\n",
        "\n",
        "# lets input num1=5, num2=4, operator=*"
      ]
    },
    {
      "cell_type": "markdown",
      "metadata": {},
      "source": [
        "**3. Write a function that squares its argument.**"
      ]
    },
    {
      "cell_type": "code",
      "execution_count": 31,
      "metadata": {},
      "outputs": [
        {
          "name": "stdout",
          "output_type": "stream",
          "text": [
            "The square of 6.0 is 36.0\n"
          ]
        }
      ],
      "source": [
        "def square(x):\n",
        "    return x ** 2\n",
        "\n",
        "# Test the function\n",
        "num = float(input(\"Enter a number: \"))\n",
        "result = square(num)\n",
        "print(f\"The square of {num} is\", result)\n",
        "\n",
        "#lets input num=6"
      ]
    },
    {
      "cell_type": "markdown",
      "metadata": {},
      "source": [
        "**4. Write a function that calculates the area of a rectangle.**\n",
        "\n",
        "*A = width * height*\n",
        "\n",
        "`Pass width and height in the following manner:`<br>\n",
        "``a) Arguments as values``<br>\n",
        "``b) Arguments as variables``<br>\n"
      ]
    },
    {
      "cell_type": "code",
      "execution_count": 33,
      "metadata": {},
      "outputs": [
        {
          "name": "stdout",
          "output_type": "stream",
          "text": [
            "The area of the rectangle is: 50\n",
            "The area of the rectangle is: 50\n"
          ]
        }
      ],
      "source": [
        "# a) Arguments as values\n",
        "def calculate_area(width, height):\n",
        "    return width * height\n",
        "\n",
        "print(\"The area of the rectangle is:\", calculate_area(5, 10))\n",
        "\n",
        "# b) Arguments as variables\n",
        "def calculate_area(width, height):\n",
        "    return width * height\n",
        "\n",
        "width = 5\n",
        "height = 10\n",
        "print(\"The area of the rectangle is:\", calculate_area(width, height))"
      ]
    },
    {
      "cell_type": "markdown",
      "metadata": {},
      "source": [
        "**5. Create 2 functions that calculate properties of a circle, using the definitions here.**\n",
        "\n",
        "a) Create a function called `calcCircumference`:\n",
        "   * Pass the radius to the function.\n",
        "   * Calculate the circumference based on the radius, and output \"The circumference is NN\".\n",
        "\n",
        "b) Create a function called `calcArea`:\n",
        "   * Pass the radius to the function.\n",
        "   * Calculate the area based on the radius, and output \"The area is NN\".\n"
      ]
    },
    {
      "cell_type": "code",
      "execution_count": 34,
      "metadata": {},
      "outputs": [],
      "source": [
        "import math\n",
        "\n",
        "def calcCircumference(radius):\n",
        "    circumference = 2 * math.pi * radius\n",
        "    print(f\"The circumference is {circumference:.2f}\")\n",
        "\n",
        "def calcArea(radius):\n",
        "    area = math.pi * (radius ** 2)\n",
        "    print(f\"The area is {area:.2f}\")"
      ]
    },
    {
      "cell_type": "markdown",
      "metadata": {},
      "source": [
        "**6. Write a Python program to create a lambda function that adds 15 to a given number passed in as an argument. Also, create a lambda function that multiplies argument x with argument y and prints the result.**"
      ]
    },
    {
      "cell_type": "code",
      "execution_count": 35,
      "metadata": {},
      "outputs": [
        {
          "name": "stdout",
          "output_type": "stream",
          "text": [
            "Circle with a radius of 5\n",
            "The circumference is 31.42\n",
            "The area is 78.54\n",
            "\n",
            "Circle with a radius of 10\n",
            "The circumference is 62.83\n",
            "The area is 314.16\n"
          ]
        }
      ],
      "source": [
        "import math\n",
        "\n",
        "def calcCircumference(radius):\n",
        "    circumference = 2 * math.pi * radius\n",
        "    print(f\"The circumference is {circumference:.2f}\")\n",
        "\n",
        "def calcArea(radius):\n",
        "    area = math.pi * (radius ** 2)\n",
        "    print(f\"The area is {area:.2f}\")\n",
        "\n",
        "\n",
        "radius = 5  # Let's calculate the circumference and area for a circle with a radius of 5\n",
        "\n",
        "print(\"Circle with a radius of\", radius)\n",
        "calcCircumference(radius)\n",
        "calcArea(radius)\n",
        "\n",
        "radius = 10  # Let's calculate the circumference and area for a circle with a radius of 10\n",
        "\n",
        "print(\"\\nCircle with a radius of\", radius)\n",
        "calcCircumference(radius)\n",
        "calcArea(radius)"
      ]
    },
    {
      "cell_type": "markdown",
      "metadata": {},
      "source": [
        "**7. Write a Python program to sort a list of tuples using Lambda.**"
      ]
    },
    {
      "cell_type": "code",
      "execution_count": 36,
      "metadata": {},
      "outputs": [
        {
          "name": "stdout",
          "output_type": "stream",
          "text": [
            "Sorted list of tuples:\n",
            "('date', 2)\n",
            "('banana', 3)\n",
            "('apple', 5)\n",
            "('elderberry', 6)\n",
            "('cherry', 7)\n"
          ]
        }
      ],
      "source": [
        "# Define a list of tuples\n",
        "tuples_list = [('apple', 5), ('banana', 3), ('cherry', 7), ('date', 2), ('elderberry', 6)]\n",
        "\n",
        "# Sort the list of tuples using Lambda\n",
        "sorted_tuples = sorted(tuples_list, key=lambda x: x[1])\n",
        "\n",
        "# Print the sorted list\n",
        "print(\"Sorted list of tuples:\")\n",
        "for tuple in sorted_tuples:\n",
        "    print(tuple)"
      ]
    },
    {
      "cell_type": "markdown",
      "metadata": {},
      "source": [
        "**8. Check if a number is even or odd using a lambda function.**"
      ]
    },
    {
      "cell_type": "code",
      "execution_count": 37,
      "metadata": {},
      "outputs": [
        {
          "name": "stdout",
          "output_type": "stream",
          "text": [
            "1 is odd\n",
            "2 is even\n",
            "3 is odd\n",
            "4 is even\n",
            "5 is odd\n",
            "6 is even\n",
            "7 is odd\n",
            "8 is even\n",
            "9 is odd\n",
            "10 is even\n"
          ]
        }
      ],
      "source": [
        "even_or_odd = lambda x: \"even\" if x % 2 == 0 else \"odd\"\n",
        "\n",
        "# Test the lambda function with some example numbers\n",
        "numbers = [1, 2, 3, 4, 5, 6, 7, 8, 9, 10]\n",
        "\n",
        "for num in numbers:\n",
        "    print(f\"{num} is {even_or_odd(num)}\")"
      ]
    },
    {
      "cell_type": "markdown",
      "metadata": {},
      "source": [
        "**9. Given a list of numbers, find all numbers divisible by 13 using `filter()` and a lambda function.**"
      ]
    },
    {
      "cell_type": "code",
      "execution_count": 38,
      "metadata": {},
      "outputs": [
        {
          "name": "stdout",
          "output_type": "stream",
          "text": [
            "Numbers divisible by 13:\n",
            "26\n",
            "13\n",
            "39\n",
            "52\n",
            "91\n",
            "104\n",
            "117\n",
            "130\n"
          ]
        }
      ],
      "source": [
        "numbers = [12, 26, 13, 39, 52, 75, 91, 104, 117, 130]\n",
        "divisible_by_13 = list(filter(lambda x: x % 13 == 0, numbers))\n",
        "\n",
        "# Print the result\n",
        "print(\"Numbers divisible by 13:\")\n",
        "for num in divisible_by_13:\n",
        "    print(num)"
      ]
    },
    {
      "cell_type": "markdown",
      "metadata": {
        "id": "NpqCUBpvJBFJ"
      },
      "source": [
        "**10. Print Fibonacci series using recursion.**"
      ]
    },
    {
      "cell_type": "code",
      "execution_count": 43,
      "metadata": {},
      "outputs": [
        {
          "name": "stdout",
          "output_type": "stream",
          "text": [
            "Fibonacci series:\n",
            "0\n",
            "1\n",
            "1\n",
            "2\n",
            "3\n"
          ]
        }
      ],
      "source": [
        "def fibonacci(n):\n",
        "    if n <= 0:\n",
        "        print(\"Input should be a positive integer.\")\n",
        "    elif n == 1:\n",
        "        return 0\n",
        "    elif n == 2:\n",
        "        return 1\n",
        "    else:\n",
        "        return fibonacci(n-1) + fibonacci(n-2)\n",
        "\n",
        "n = int(input(\"Enter the number of terms in the series: \"))\n",
        "\n",
        "print(\"Fibonacci series:\")\n",
        "for i in range(1, n+1):\n",
        "    print(fibonacci(i))\n",
        "    #lets give input 5"
      ]
    },
    {
      "cell_type": "markdown",
      "metadata": {
        "id": "o_k4WDwwXnZD"
      },
      "source": [
        "---\n",
        "### **OOP**\n",
        "---"
      ]
    },
    {
      "cell_type": "markdown",
      "metadata": {},
      "source": [
        "**1. Write a Python program to create a Vehicle class with max_speed and mileage instance attributes.**"
      ]
    },
    {
      "cell_type": "code",
      "execution_count": 44,
      "metadata": {},
      "outputs": [
        {
          "name": "stdout",
          "output_type": "stream",
          "text": [
            "Max speed: 180 km/h\n",
            "Mileage: 30000 km\n",
            "This vehicle has a maximum speed of 180 km/h and a mileage of 30000 km.\n"
          ]
        }
      ],
      "source": [
        "class Vehicle:\n",
        "    def __init__(self, max_speed, mileage):\n",
        "        self.max_speed = max_speed\n",
        "        self.mileage = mileage\n",
        "\n",
        "    def description(self):\n",
        "        return f\"This vehicle has a maximum speed of {self.max_speed} km/h and a mileage of {self.mileage} km.\"\n",
        "\n",
        "# Create an instance of the Vehicle class\n",
        "my_car = Vehicle(180, 30000)\n",
        "\n",
        "# Access the instance attributes\n",
        "print(f\"Max speed: {my_car.max_speed} km/h\")\n",
        "print(f\"Mileage: {my_car.mileage} km\")\n",
        "\n",
        "# Call the description method\n",
        "print(my_car.description())"
      ]
    },
    {
      "cell_type": "markdown",
      "metadata": {},
      "source": [
        "**2. Create a child class Bus that will inherit all of the variables and methods of the Vehicle class.**\n",
        "\n",
        "Given:\n",
        "\n",
        "```python\n",
        "class Vehicle:\n",
        "    def __init__(self, name, max_speed, mileage):\n",
        "        self.name = name\n",
        "        self.max_speed = max_speed\n",
        "        self.mileage = mileage\n",
        "```\n",
        "Create a Bus object that will inherit all of the variables and methods of the parent Vehicle class and display it.\n",
        "\n",
        "**Expected Output:**\n",
        "`Vehicle Name: School Volvo Speed: 180 Mileage: 12`"
      ]
    },
    {
      "cell_type": "code",
      "execution_count": 45,
      "metadata": {},
      "outputs": [
        {
          "name": "stdout",
          "output_type": "stream",
          "text": [
            "Vehicle Name: School Volvo Speed: 180 Mileage: 12\n"
          ]
        }
      ],
      "source": [
        "class Vehicle:\n",
        "    def __init__(self, name, max_speed, mileage):\n",
        "        self.name = name\n",
        "        self.max_speed = max_speed\n",
        "        self.mileage = mileage\n",
        "\n",
        "    def description(self):\n",
        "        return f\"Vehicle Name: {self.name} Speed: {self.max_speed} Mileage: {self.mileage}\"\n",
        "\n",
        "class Bus(Vehicle):\n",
        "    pass  # No additional attributes or methods needed\n",
        "\n",
        "# Create a Bus object\n",
        "school_bus = Bus(\"School Volvo\", 180, 12)\n",
        "\n",
        "# Display the Bus object\n",
        "print(school_bus.description())"
      ]
    },
    {
      "cell_type": "markdown",
      "metadata": {},
      "source": [
        "**3. Write a Python program to create a class representing a shopping cart. Include methods for adding and removing items, and calculating the total price.**\n"
      ]
    },
    {
      "cell_type": "code",
      "execution_count": 46,
      "metadata": {},
      "outputs": [
        {
          "name": "stdout",
          "output_type": "stream",
          "text": [
            "Shopping Cart:\n",
            "  Apple: $1.0 x 2 = $2.00\n",
            "  Banana: $0.5 x 2 = $1.00\n",
            "  Orange: $1.5 x 1 = $1.50\n",
            "Total: $4.50\n"
          ]
        }
      ],
      "source": [
        "class ShoppingCart:\n",
        "    def __init__(self):\n",
        "        self.items = {}\n",
        "\n",
        "    def add_item(self, item_name, price, quantity):\n",
        "        if item_name in self.items:\n",
        "            self.items[item_name]['quantity'] += quantity\n",
        "        else:\n",
        "            self.items[item_name] = {'price': price, 'quantity': quantity}\n",
        "\n",
        "    def remove_item(self, item_name, quantity):\n",
        "        if item_name in self.items:\n",
        "            if self.items[item_name]['quantity'] <= quantity:\n",
        "                del self.items[item_name]\n",
        "            else:\n",
        "                self.items[item_name]['quantity'] -= quantity\n",
        "\n",
        "    def calculate_total(self):\n",
        "        total = 0\n",
        "        for item in self.items.values():\n",
        "            total += item['price'] * item['quantity']\n",
        "        return total\n",
        "\n",
        "    def __str__(self):\n",
        "        cart_str = \"Shopping Cart:\\n\"\n",
        "        for item, details in self.items.items():\n",
        "            cart_str += f\"  {item}: ${details['price']} x {details['quantity']} = ${details['price'] * details['quantity']:.2f}\\n\"\n",
        "        cart_str += f\"Total: ${self.calculate_total():.2f}\"\n",
        "        return cart_str\n",
        "\n",
        "# Create a shopping cart\n",
        "cart = ShoppingCart()\n",
        "\n",
        "# Add items to the cart\n",
        "cart.add_item(\"Apple\", 1.00, 2)\n",
        "cart.add_item(\"Banana\", 0.50, 3)\n",
        "cart.add_item(\"Orange\", 1.50, 1)\n",
        "\n",
        "# Remove an item from the cart\n",
        "cart.remove_item(\"Banana\", 1)\n",
        "\n",
        "# Display the cart contents and total\n",
        "print(cart)"
      ]
    },
    {
      "cell_type": "markdown",
      "metadata": {},
      "source": [
        "**4. Write a Python program to create a class representing a bank. Include methods for managing customer accounts and transactions.**\n"
      ]
    },
    {
      "cell_type": "code",
      "execution_count": 47,
      "metadata": {},
      "outputs": [
        {
          "name": "stdout",
          "output_type": "stream",
          "text": [
            "Deposit successful. New balance: $1500.00\n",
            "Withdrawal successful. New balance: $1300.00\n",
            "Account balance: $1300.00\n",
            "Transfer successful. New balance in from_account: $1000.00, New balance in to_account: $800.00\n",
            "Bank Accounts:\n",
            "  Account 1: John Doe - $1000.00\n",
            "  Account 2: Jane Doe - $800.00\n",
            "\n"
          ]
        }
      ],
      "source": [
        "\n",
        "class Bank:\n",
        "    def __init__(self):\n",
        "        self.accounts = {}\n",
        "\n",
        "    def create_account(self, customer_name, initial_balance):\n",
        "        account_number = len(self.accounts) + 1\n",
        "        self.accounts[account_number] = {'customer_name': customer_name, 'balance': initial_balance}\n",
        "        return account_number\n",
        "\n",
        "    def deposit(self, account_number, amount):\n",
        "        if account_number in self.accounts:\n",
        "            self.accounts[account_number]['balance'] += amount\n",
        "            return f\"Deposit successful. New balance: ${self.accounts[account_number]['balance']:.2f}\"\n",
        "        else:\n",
        "            return \"Account not found.\"\n",
        "\n",
        "    def withdraw(self, account_number, amount):\n",
        "        if account_number in self.accounts:\n",
        "            if self.accounts[account_number]['balance'] >= amount:\n",
        "                self.accounts[account_number]['balance'] -= amount\n",
        "                return f\"Withdrawal successful. New balance: ${self.accounts[account_number]['balance']:.2f}\"\n",
        "            else:\n",
        "                return \"Insufficient balance.\"\n",
        "        else:\n",
        "            return \"Account not found.\"\n",
        "\n",
        "    def get_balance(self, account_number):\n",
        "        if account_number in self.accounts:\n",
        "            return f\"Account balance: ${self.accounts[account_number]['balance']:.2f}\"\n",
        "        else:\n",
        "            return \"Account not found.\"\n",
        "\n",
        "    def transfer(self, from_account, to_account, amount):\n",
        "        if from_account in self.accounts and to_account in self.accounts:\n",
        "            if self.accounts[from_account]['balance'] >= amount:\n",
        "                self.accounts[from_account]['balance'] -= amount\n",
        "                self.accounts[to_account]['balance'] += amount\n",
        "                return f\"Transfer successful. New balance in from_account: ${self.accounts[from_account]['balance']:.2f}, New balance in to_account: ${self.accounts[to_account]['balance']:.2f}\"\n",
        "            else:\n",
        "                return \"Insufficient balance in from_account.\"\n",
        "        else:\n",
        "            return \"One or both accounts not found.\"\n",
        "\n",
        "    def __str__(self):\n",
        "        bank_str = \"Bank Accounts:\\n\"\n",
        "        for account_number, details in self.accounts.items():\n",
        "            bank_str += f\"  Account {account_number}: {details['customer_name']} - ${details['balance']:.2f}\\n\"\n",
        "        return bank_str\n",
        "\n",
        "# Create a bank\n",
        "bank = Bank()\n",
        "\n",
        "# Create customer accounts\n",
        "account1 = bank.create_account(\"John Doe\", 1000.00)\n",
        "account2 = bank.create_account(\"Jane Doe\", 500.00)\n",
        "\n",
        "# Perform transactions\n",
        "print(bank.deposit(account1, 500.00))\n",
        "print(bank.withdraw(account1, 200.00))\n",
        "print(bank.get_balance(account1))\n",
        "print(bank.transfer(account1, account2, 300.00))\n",
        "\n",
        "# Display bank accounts\n",
        "print(bank)"
      ]
    },
    {
      "cell_type": "markdown",
      "metadata": {
        "id": "ZcxPDSvP-xs_"
      },
      "source": [
        "---\n",
        "### **File Handling**\n",
        "---"
      ]
    },
    {
      "cell_type": "markdown",
      "metadata": {},
      "source": [
        "**1. Write a function in Python to read the content from a text file \"your_file.txt\" line by line and display the same on the screen.**"
      ]
    },
    {
      "cell_type": "code",
      "execution_count": 6,
      "metadata": {},
      "outputs": [
        {
          "name": "stdout",
          "output_type": "stream",
          "text": [
            "Hello reader!\n",
            "My name is Muhammad Aadil\n",
            "I am 16 years old\n",
            "I live in Hyderabad\n"
          ]
        }
      ],
      "source": [
        "def read_file_content(aadilfile):\n",
        "    try:\n",
        "        with open(aadilfile, 'r') as file:\n",
        "            for line in file:\n",
        "                print(line.strip())\n",
        "    except FileNotFoundError:\n",
        "        print(f\"Sorry, the file {aadilfile} does not exist.\")\n",
        "\n",
        "# Call the function with the file name including the extension\n",
        "read_file_content('aadilfile.txt')\n"
      ]
    },
    {
      "cell_type": "markdown",
      "metadata": {},
      "source": [
        "**2. Write a function in Python to count the number of lines from a text file \"story.txt\" which do not start with an alphabet \"T\".**"
      ]
    },
    {
      "cell_type": "code",
      "execution_count": 1,
      "metadata": {},
      "outputs": [
        {
          "name": "stdout",
          "output_type": "stream",
          "text": [
            "The number of lines that do not start with 'T' is: 4\n"
          ]
        }
      ],
      "source": [
        "def count_lines_not_starting_with_T(filename='story.txt'):\n",
        "    count = 0\n",
        "    try:\n",
        "        with open(filename, 'r') as file:\n",
        "            for line in file:\n",
        "                if not line.lstrip().startswith('T'):\n",
        "                    count += 1\n",
        "        return count\n",
        "    except FileNotFoundError:\n",
        "        print(f\"Sorry, the file {filename} does not exist.\")\n",
        "        return -1\n",
        "\n",
        "# Call the function\n",
        "result = count_lines_not_starting_with_T()\n",
        "if result != -1:\n",
        "    print(f\"The number of lines that do not start with 'T' is: {result}\")"
      ]
    },
    {
      "cell_type": "markdown",
      "metadata": {},
      "source": [
        "**3. Write a function in Python to count and display the total number of words in a text file.**"
      ]
    },
    {
      "cell_type": "code",
      "execution_count": 2,
      "metadata": {},
      "outputs": [
        {
          "name": "stdout",
          "output_type": "stream",
          "text": [
            "The total number of words in the file is: 78\n"
          ]
        }
      ],
      "source": [
        "def count_words_in_file(filename='story.txt'):\n",
        "    try:\n",
        "        with open(filename, 'r') as file:\n",
        "            content = file.read()\n",
        "            words = content.split()\n",
        "            word_count = len(words)\n",
        "        return word_count\n",
        "    except FileNotFoundError:\n",
        "        print(f\"Sorry, the file {filename} does not exist.\")\n",
        "        return -1\n",
        "\n",
        "# Call the function\n",
        "word_count = count_words_in_file()\n",
        "if word_count != -1:\n",
        "    print(f\"The total number of words in the file is: {word_count}\")"
      ]
    },
    {
      "cell_type": "markdown",
      "metadata": {},
      "source": [
        "**4. Write a function in Python to read lines from a text file \"notes.txt\". Your function should find and display the occurrence of the word \"the\".**"
      ]
    },
    {
      "cell_type": "code",
      "execution_count": 1,
      "metadata": {},
      "outputs": [
        {
          "name": "stdout",
          "output_type": "stream",
          "text": [
            "The word 'the' occurred 14 times in the file.\n"
          ]
        },
        {
          "data": {
            "text/plain": [
              "14"
            ]
          },
          "execution_count": 1,
          "metadata": {},
          "output_type": "execute_result"
        }
      ],
      "source": [
        "def count_the_occurrences(filename='notes.txt'):\n",
        "    count = 0\n",
        "    try:\n",
        "        with open(filename, 'r') as file:\n",
        "            for line in file:\n",
        "                words = line.lower().split()\n",
        "                count += words.count('the')\n",
        "        print(f\"The word 'the' occurred {count} times in the file.\")\n",
        "        return count\n",
        "    except FileNotFoundError:\n",
        "        print(f\"Sorry, the file {filename} does not exist.\")\n",
        "        return -1\n",
        "\n",
        "# Call the function\n",
        "count_the_occurrences()"
      ]
    },
    {
      "cell_type": "markdown",
      "metadata": {},
      "source": [
        "**5. A text file named \"matter.txt\" contains some text, which needs to be displayed such that every next character is separated by a symbol \"#\". Write a function definition for `hash_display()` in Python that would display the entire content of the file matter.txt in the desired format.**"
      ]
    },
    {
      "cell_type": "code",
      "execution_count": 1,
      "metadata": {},
      "outputs": [
        {
          "name": "stdout",
          "output_type": "stream",
          "text": [
            "T#h#i#s# #i#s# #a# #s#a#m#p#l#e# #t#e#x#t# #f#o#r# #t#e#s#t#i#n#g#.#\n",
            "#E#v#e#r#y# #c#h#a#r#a#c#t#e#r# #w#i#l#l# #b#e# #s#e#p#a#r#a#t#e#d# #b#y# #a# #h#a#s#h# #s#y#m#b#o#l#.#\n",
            "#E#n#j#o#y# #c#o#d#i#n#g# #i#n# #P#y#t#h#o#n#!#S\n"
          ]
        }
      ],
      "source": [
        "def hash_display(filename='matter.txt'):\n",
        "    try:\n",
        "        with open(filename, 'r') as file:\n",
        "            content = file.read()\n",
        "            # Join each character with '#'\n",
        "            hashed_content = '#'.join(content)\n",
        "            print(hashed_content)\n",
        "    except FileNotFoundError:\n",
        "        print(f\"Sorry, the file {filename} does not exist.\")\n",
        "\n",
        "# Call the function\n",
        "hash_display()"
      ]
    },
    {
      "cell_type": "markdown",
      "metadata": {},
      "source": [
        "**6. Write a Python program that reads content from one file and writes it into another file.**"
      ]
    },
    {
      "cell_type": "code",
      "execution_count": 2,
      "metadata": {},
      "outputs": [
        {
          "name": "stdout",
          "output_type": "stream",
          "text": [
            "Content transferred from matter.txt to notes.txt successfully!\n"
          ]
        }
      ],
      "source": [
        "def transfer_content(source_file, target_file):\n",
        "    try:\n",
        "        with open(source_file, 'r') as source:\n",
        "            content = source.read()\n",
        "        with open(target_file, 'w') as target:\n",
        "            target.write(content)\n",
        "        print(f\"Content transferred from {source_file} to {target_file} successfully!\")\n",
        "    except FileNotFoundError:\n",
        "        print(f\"Sorry, the file {source_file} does not exist.\")\n",
        "    except IOError:\n",
        "        print(\"An error occurred while reading or writing the file.\")\n",
        "\n",
        "# Call the function with the source and target file names\n",
        "transfer_content('matter.txt', 'notes.txt')"
      ]
    },
    {
      "cell_type": "markdown",
      "metadata": {},
      "source": [
        "**7. Write a Python program to find the most repeated word in a text file.**"
      ]
    },
    {
      "cell_type": "code",
      "execution_count": 8,
      "metadata": {},
      "outputs": [
        {
          "name": "stdout",
          "output_type": "stream",
          "text": [
            "The most repeated word in the file is 'a' with 2 occurrences.\n"
          ]
        }
      ],
      "source": [
        "from collections import Counter\n",
        "import re\n",
        "\n",
        "def most_repeated_word(filename):\n",
        "    try:\n",
        "        # Read the file\n",
        "        with open(filename, 'r') as file:\n",
        "            text = file.read().lower()  # Read and convert to lowercase\n",
        "        \n",
        "        # Remove punctuation marks\n",
        "        text = re.sub(r'[^\\w\\s]', '', text)\n",
        "        \n",
        "        # Tokenize the text into words\n",
        "        words = text.split()\n",
        "\n",
        "        # Count frequency of each word\n",
        "        word_counts = Counter(words)\n",
        "\n",
        "        # Find the most common word\n",
        "        most_common_word = word_counts.most_common(1)[0]\n",
        "\n",
        "        return most_common_word\n",
        "    \n",
        "    except FileNotFoundError:\n",
        "        print(f\"Error: File '{filename}' not found.\")\n",
        "    except IOError:\n",
        "        print(f\"Error: Could not read file '{filename}'.\")\n",
        "    except Exception as e:\n",
        "        print(f\"An error occurred: {str(e)}\")\n",
        "\n",
        "# Example usage:\n",
        "filename = 'notes.txt'  # Replace with your file path or name\n",
        "most_common_word = most_repeated_word(filename)\n",
        "if most_common_word:\n",
        "    print(f\"The most repeated word in the file is '{most_common_word[0]}' with {most_common_word[1]} occurrences.\")\n",
        "    "
      ]
    },
    {
      "cell_type": "markdown",
      "metadata": {},
      "source": [
        "**8. Write a Python program to read specific lines from a file in Python.**\n"
      ]
    },
    {
      "cell_type": "code",
      "execution_count": 15,
      "metadata": {},
      "outputs": [
        {
          "name": "stdout",
          "output_type": "stream",
          "text": [
            "Error: Line number 5 is out of range.\n"
          ]
        }
      ],
      "source": [
        "def read_specific_lines(filename, line_numbers):\n",
        "    try:\n",
        "        with open(filename, 'r') as file:\n",
        "            lines = file.readlines()\n",
        "            result = []\n",
        "            for line_number in line_numbers:\n",
        "                if 1 <= line_number <= len(lines):\n",
        "                    result.append(lines[line_number - 1].strip())\n",
        "                else:\n",
        "                    print(f\"Error: Line number {line_number} is out of range.\")\n",
        "                    return None\n",
        "\n",
        "        return result\n",
        "    \n",
        "    except FileNotFoundError:\n",
        "        print(f\"Error: File '{filename}' not found.\")\n",
        "    except Exception as e:\n",
        "        print(f\"An error occurred: {str(e)}\")\n",
        "\n",
        "# Example usage:\n",
        "filename = 'notes.txt'\n",
        "lines_to_read = [1, 3, 5]  # Example: Read lines 1, 3, and 5\n",
        "specific_lines = read_specific_lines(filename, lines_to_read)\n",
        "if specific_lines:\n",
        "    print(\"Specific lines read from the file:\")\n",
        "    for line in specific_lines:\n",
        "        print(line)"
      ]
    },
    {
      "cell_type": "markdown",
      "metadata": {},
      "source": [
        "**9. A binary file \"Book.dat\" has the structure [BookNo, Book_Name, Author, Price].**\n",
        "\n",
        "i. Write a user-defined function `createFile()` to input data for a record and add it to Book.dat.  \n",
        "ii. Write a function `countRec(Author)` in Python which accepts the Author name as a parameter and counts and returns the number of books by the given Author stored in the binary file \"Book.dat\".\n"
      ]
    },
    {
      "cell_type": "markdown",
      "metadata": {},
      "source": [
        "##### 1)Function to Create and Add Records to \"Book.dat\""
      ]
    },
    {
      "cell_type": "code",
      "execution_count": 1,
      "metadata": {},
      "outputs": [],
      "source": [
        "def createFile():\n",
        "    try:\n",
        "        with open('Book.dat', 'a') as file:\n",
        "            while True:\n",
        "                book_no = input(\"Enter Book Number: \")\n",
        "                book_name = input(\"Enter Book Name: \")\n",
        "                author = input(\"Enter Author Name: \")\n",
        "                price = input(\"Enter Price: \")\n",
        "                \n",
        "                file.write(f\"{book_no}, {book_name}, {author}, {price}\\n\")\n",
        "                \n",
        "                choice = input(\"Do you want to add another record? (yes/no): \")\n",
        "                if choice.lower() != 'yes':\n",
        "                    break\n",
        "    except Exception as e:\n",
        "        print(f\"An error occurred: {str(e)}\")\n",
        "\n",
        "# Example usage:\n",
        "createFile()\n"
      ]
    },
    {
      "cell_type": "markdown",
      "metadata": {},
      "source": [
        "##### 2)Function to Count Records by Author"
      ]
    },
    {
      "cell_type": "code",
      "execution_count": 2,
      "metadata": {},
      "outputs": [
        {
          "name": "stdout",
          "output_type": "stream",
          "text": [
            "Number of books by aadil: 1\n"
          ]
        }
      ],
      "source": [
        "def countRec(author):\n",
        "    try:\n",
        "        count = 0\n",
        "        with open('Book.dat', 'r') as file:\n",
        "            for line in file:\n",
        "                if author.lower() in line.lower():\n",
        "                    count += 1\n",
        "        return count\n",
        "    except FileNotFoundError:\n",
        "        print(\"Error: File 'Book.dat' not found.\")\n",
        "    except Exception as e:\n",
        "        print(f\"An error occurred: {str(e)}\")\n",
        "\n",
        "# Example usage:\n",
        "author_name = input(\"Enter the author's name to count books: \")\n",
        "count = countRec(author_name)\n",
        "if count is not None:\n",
        "    print(f\"Number of books by {author_name}: {count}\")"
      ]
    },
    {
      "cell_type": "markdown",
      "metadata": {},
      "source": [
        "---\n",
        "### **Exception Handling**\n",
        "---"
      ]
    },
    {
      "cell_type": "markdown",
      "metadata": {},
      "source": [
        "**1. Write a Python program to handle a ZeroDivisionError exception when dividing a number by zero.**"
      ]
    },
    {
      "cell_type": "code",
      "execution_count": 4,
      "metadata": {},
      "outputs": [
        {
          "name": "stdout",
          "output_type": "stream",
          "text": [
            "Error: Division by zero is not allowed.\n"
          ]
        }
      ],
      "source": [
        "def divide_numbers(num1, num2):\n",
        "    try:\n",
        "        result = num1 / num2\n",
        "        print(f\"Result of division: {result}\")\n",
        "    except ZeroDivisionError:\n",
        "        print(\"Error: Division by zero is not allowed.\")\n",
        "\n",
        "# Example usage:\n",
        "num1 = 10\n",
        "num2 = 0\n",
        "divide_numbers(num1,num2)"
      ]
    },
    {
      "cell_type": "markdown",
      "metadata": {},
      "source": [
        "**2. Write a Python program that prompts the user to input an integer and raises a ValueError exception if the input is not a valid integer.**"
      ]
    },
    {
      "cell_type": "code",
      "execution_count": 5,
      "metadata": {},
      "outputs": [
        {
          "name": "stdout",
          "output_type": "stream",
          "text": [
            "Error: Please enter a valid integer.\n",
            "You entered: 3\n"
          ]
        }
      ],
      "source": [
        "def get_integer_input(prompt):\n",
        "    while True:\n",
        "        try:\n",
        "            user_input = input(prompt)\n",
        "            integer_value = int(user_input)  # Try converting input to an integer\n",
        "            return integer_value  # Return the integer if conversion succeeds\n",
        "        except ValueError:\n",
        "            print(\"Error: Please enter a valid integer.\")\n",
        "\n",
        "# Example usage:\n",
        "try:\n",
        "    number = get_integer_input(\"Enter an integer: \")\n",
        "    print(f\"You entered: {number}\")\n",
        "except ValueError as ve:\n",
        "    print(f\"Error occurred: {ve}\")"
      ]
    },
    {
      "cell_type": "markdown",
      "metadata": {},
      "source": [
        "**3. Write a Python program that opens a file and handles a FileNotFoundError exception if the file does not exist.**"
      ]
    },
    {
      "cell_type": "code",
      "execution_count": 8,
      "metadata": {},
      "outputs": [
        {
          "name": "stdout",
          "output_type": "stream",
          "text": [
            "Error: File 'example.txt' not found.\n"
          ]
        }
      ],
      "source": [
        "def read_file(filename):\n",
        "    try:\n",
        "        with open(filename, 'r') as file:\n",
        "            contents = file.read()\n",
        "            print(f\"Contents of '{filename}':\")\n",
        "            print(contents)\n",
        "    except FileNotFoundError:\n",
        "        print(f\"Error: File '{filename}' not found.\")\n",
        "    except Exception as e:\n",
        "        print(f\"Error occurred: {str(e)}\")\n",
        "\n",
        "# Example usage:\n",
        "filename = 'example.txt'  # Replace with the name of the file you want to open\n",
        "read_file(filename)"
      ]
    },
    {
      "cell_type": "markdown",
      "metadata": {},
      "source": [
        "**4. Write a Python program that prompts the user to input two numbers and raises a TypeError exception if the inputs are not numerical.**"
      ]
    },
    {
      "cell_type": "code",
      "execution_count": 9,
      "metadata": {},
      "outputs": [
        {
          "name": "stdout",
          "output_type": "stream",
          "text": [
            "Error: Please enter a numerical value.\n",
            "Sum of 5.0 and 6.0 is: 11.0\n"
          ]
        }
      ],
      "source": [
        "def get_numeric_input(prompt):\n",
        "    while True:\n",
        "        try:\n",
        "            user_input = input(prompt)\n",
        "            numeric_value = float(user_input)  # Try converting input to a float (handles both int and float inputs)\n",
        "            return numeric_value  # Return the numeric value if conversion succeeds\n",
        "        except ValueError:\n",
        "            print(\"Error: Please enter a numerical value.\")\n",
        "\n",
        "# Example usage:\n",
        "try:\n",
        "    number1 = get_numeric_input(\"Enter the first number: \")\n",
        "    number2 = get_numeric_input(\"Enter the second number: \")\n",
        "    \n",
        "    result = number1 + number2\n",
        "    print(f\"Sum of {number1} and {number2} is: {result}\")\n",
        "except TypeError:\n",
        "    print(\"Error: Non-numerical input detected.\")\n",
        "except Exception as e:\n",
        "    print(f\"Error occurred: {str(e)}\")"
      ]
    },
    {
      "cell_type": "markdown",
      "metadata": {},
      "source": [
        "**5. Write a Python program that executes an operation on a list and handles an IndexError exception if the index is out of range.**"
      ]
    },
    {
      "cell_type": "code",
      "execution_count": 10,
      "metadata": {},
      "outputs": [
        {
          "name": "stdout",
          "output_type": "stream",
          "text": [
            "Value at index 2: 30\n",
            "Error: Index 5 is out of range for the list.\n",
            "Value at index -1: 50\n"
          ]
        }
      ],
      "source": [
        "def operate_on_list(input_list, index):\n",
        "    try:\n",
        "        value = input_list[index]\n",
        "    \n",
        "        \n",
        "        print(f\"Value at index {index}: {value}\")\n",
        "    except IndexError:\n",
        "        print(f\"Error: Index {index} is out of range for the list.\")\n",
        "\n",
        "# Example usage:\n",
        "my_list = [10, 20, 30, 40, 50]\n",
        "\n",
        "# Try accessing elements at valid and invalid indices\n",
        "operate_on_list(my_list, 2)  # Valid index\n",
        "operate_on_list(my_list, 5)  # Out of range index\n",
        "operate_on_list(my_list, -1)  # Negative index (valid in Python)"
      ]
    },
    {
      "cell_type": "markdown",
      "metadata": {},
      "source": [
        "**6. Define a custom exception called NegativeNumberError. Write a program that asks the user for a positive number and raises this exception if the user inputs a negative number.**"
      ]
    },
    {
      "cell_type": "code",
      "execution_count": 11,
      "metadata": {},
      "outputs": [
        {
          "name": "stdout",
          "output_type": "stream",
          "text": [
            "You entered: 6\n"
          ]
        }
      ],
      "source": [
        "class NegativeNumberError(Exception):\n",
        "    def __init__(self, message=\"Number cannot be negative.\"):\n",
        "        self.message = message\n",
        "        super().__init__(self.message)\n",
        "def get_positive_number():\n",
        "    while True:\n",
        "        try:\n",
        "            num = int(input(\"Enter a positive number: \"))\n",
        "            if num < 0:\n",
        "                raise NegativeNumberError\n",
        "            return num\n",
        "        except ValueError:\n",
        "            print(\"Error: Please enter a valid integer.\")\n",
        "        except NegativeNumberError as e:\n",
        "            print(e)\n",
        "\n",
        "# Example usage:\n",
        "try:\n",
        "    positive_number = get_positive_number()\n",
        "    print(f\"You entered: {positive_number}\")\n",
        "except Exception as e:\n",
        "    print(f\"Error occurred: {str(e)}\")"
      ]
    }
  ],
  "metadata": {
    "colab": {
      "collapsed_sections": [
        "iSQCl3G5RYiy",
        "1J1SoBzkrC20",
        "om4dtaZgReBb",
        "wCIvkzL4I0F5",
        "e8bSitFfCJ34",
        "VgBwDwEyDfwb",
        "Z3zXDznyW5cE"
      ],
      "provenance": []
    },
    "kernelspec": {
      "display_name": "Python 3",
      "name": "python3"
    },
    "language_info": {
      "codemirror_mode": {
        "name": "ipython",
        "version": 3
      },
      "file_extension": ".py",
      "mimetype": "text/x-python",
      "name": "python",
      "nbconvert_exporter": "python",
      "pygments_lexer": "ipython3",
      "version": "3.12.4"
    }
  },
  "nbformat": 4,
  "nbformat_minor": 0
}
