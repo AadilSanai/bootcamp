{
 "cells": [
  {
   "cell_type": "markdown",
   "metadata": {},
   "source": [
    "# *Aadil Sanai*\n",
    "\n",
    "\n",
    "## **Assignment 1- day 2- 20/6/2024**"
   ]
  },
  {
   "cell_type": "markdown",
   "metadata": {},
   "source": [
    "### 1)What is the difference between list and dictionary?"
   ]
  },
  {
   "cell_type": "markdown",
   "metadata": {},
   "source": [
    "### Ans) A list in Python is an ordered, mutable collection of elements that can be accessed by their index, allowing for duplicates and defined using square brackets []. In contrast, a dictionary is an unordered, mutable collection of key-value pairs where each key is unique and is defined using curly braces {}. Lists are ideal for maintaining an ordered sequence of items, while dictionaries are\n",
    "\n",
    "\n",
    "\n"
   ]
  },
  {
   "cell_type": "markdown",
   "metadata": {},
   "source": []
  },
  {
   "cell_type": "markdown",
   "metadata": {},
   "source": [
    "### 2,3)Make a dictionary of 10 locations and their respective temperatures,and print the dictionary \n"
   ]
  },
  {
   "cell_type": "code",
   "execution_count": 3,
   "metadata": {},
   "outputs": [
    {
     "name": "stdout",
     "output_type": "stream",
     "text": [
      "{'Hyderabad': '38C', 'Karachi': '40C', 'Islamabad': '32C', 'Lahore': '35C', 'Multan': '39C', 'Peshawar': '36C', 'Quetta': '30C', 'Faisalabad': '34C', 'Sukkhur': '37C', 'Jacomabad': '32C'}\n"
     ]
    }
   ],
   "source": [
    "a={\"Hyderabad\":\"38C\",\"Karachi\":\"40C\",\"Islamabad\":\"32C\",\"Lahore\":\"35C\",\"Multan\":\"39C\",\n",
    "   \"Peshawar\": \"36C\",\"Quetta\": \"30C\",\"Faisalabad\": \"34C\",\"Sukkhur\": \"37C\",\"Jacomabad\": \"32C\",\n",
    "    }\n",
    "print(a)\n"
   ]
  },
  {
   "cell_type": "markdown",
   "metadata": {},
   "source": []
  },
  {
   "cell_type": "markdown",
   "metadata": {},
   "source": [
    "### 4)Print the length of the dictionary.\n"
   ]
  },
  {
   "cell_type": "code",
   "execution_count": 6,
   "metadata": {},
   "outputs": [
    {
     "name": "stdout",
     "output_type": "stream",
     "text": [
      "10\n"
     ]
    }
   ],
   "source": [
    "\n",
    "print(len(a))"
   ]
  },
  {
   "cell_type": "markdown",
   "metadata": {},
   "source": [
    "### 5)Print the value of a specific key.\n"
   ]
  },
  {
   "cell_type": "markdown",
   "metadata": {},
   "source": []
  },
  {
   "cell_type": "code",
   "execution_count": 11,
   "metadata": {},
   "outputs": [
    {
     "data": {
      "text/plain": [
       "'38C'"
      ]
     },
     "execution_count": 11,
     "metadata": {},
     "output_type": "execute_result"
    }
   ],
   "source": [
    "a.get(\"Hyderabad\")\n",
    "\n"
   ]
  },
  {
   "cell_type": "markdown",
   "metadata": {},
   "source": [
    "### 6)Print all the keys of the dictionary.\n"
   ]
  },
  {
   "cell_type": "code",
   "execution_count": 22,
   "metadata": {},
   "outputs": [
    {
     "name": "stdout",
     "output_type": "stream",
     "text": [
      "dict_keys(['Hyderabad', 'Karachi', 'Islamabad', 'Lahore', 'Multan', 'Peshawar', 'Quetta', 'Faisalabad', 'Sukkhur', 'Jacomabad'])\n"
     ]
    }
   ],
   "source": [
    "print(a.keys())\n"
   ]
  },
  {
   "cell_type": "markdown",
   "metadata": {},
   "source": []
  },
  {
   "cell_type": "markdown",
   "metadata": {},
   "source": [
    "### 7)Print all the values of the dictionary.\n"
   ]
  },
  {
   "cell_type": "code",
   "execution_count": 23,
   "metadata": {},
   "outputs": [
    {
     "name": "stdout",
     "output_type": "stream",
     "text": [
      "dict_values(['38C', '40C', '32C', '35C', '39C', '36C', '30C', '34C', '37C', '32C'])\n"
     ]
    }
   ],
   "source": [
    "print(a.values())"
   ]
  },
  {
   "cell_type": "markdown",
   "metadata": {},
   "source": [
    "### 8)Add 2 more locations in the dictionary and print the updated dictionary.\n"
   ]
  },
  {
   "cell_type": "code",
   "execution_count": 30,
   "metadata": {},
   "outputs": [
    {
     "name": "stdout",
     "output_type": "stream",
     "text": [
      "{'Hyderabad': '38C', 'Karachi': '40C', 'Islamabad': '32C', 'Lahore': '35C', 'Multan': '39C', 'Peshawar': '36C', 'Quetta': '30C', 'Faisalabad': '34C', 'Sukkhur': '37C', 'Jacomabad': '32C', ('Gawadar', 'Swat'): '37,32'}\n"
     ]
    }
   ],
   "source": [
    "a[\"Gawadar\",\"Swat\"]=\"37,32\"\n",
    "print(a)"
   ]
  },
  {
   "cell_type": "markdown",
   "metadata": {},
   "source": [
    "### 9)Remove 2 locations from the dictionary and print the updated dictionary.\n"
   ]
  },
  {
   "cell_type": "code",
   "execution_count": 35,
   "metadata": {},
   "outputs": [
    {
     "name": "stdout",
     "output_type": "stream",
     "text": [
      "{'Islamabad': '32C', 'Multan': '39C', 'Peshawar': '36C', 'Quetta': '30C', 'Faisalabad': '34C', 'Sukkhur': '37C', 'Jacomabad': '32C', ('Gawadar', 'Swat'): '37,32'}\n"
     ]
    }
   ],
   "source": [
    "a.pop(\"Karachi\")\n",
    "a.pop(\"Lahore\")\n",
    "print(a)\n"
   ]
  },
  {
   "cell_type": "markdown",
   "metadata": {},
   "source": [
    "### 10)Copy the dictionary and print the copied dictionary.\n"
   ]
  },
  {
   "cell_type": "code",
   "execution_count": 41,
   "metadata": {},
   "outputs": [
    {
     "name": "stdout",
     "output_type": "stream",
     "text": [
      "{'Islamabad': '32C', 'Multan': '39C', 'Peshawar': '36C', 'Quetta': '30C', 'Faisalabad': '34C', 'Sukkhur': '37C', 'Jacomabad': '32C', ('Gawadar', 'Swat'): '37,32'}\n"
     ]
    }
   ],
   "source": [
    "b=a.copy()\n",
    "print(b)\n"
   ]
  },
  {
   "cell_type": "markdown",
   "metadata": {},
   "source": [
    "### 11)Clear the dictionary and print the updated dictionary.\n"
   ]
  },
  {
   "cell_type": "code",
   "execution_count": 45,
   "metadata": {},
   "outputs": [
    {
     "name": "stdout",
     "output_type": "stream",
     "text": [
      "{}\n"
     ]
    }
   ],
   "source": [
    "b.clear()\n",
    "print(b)"
   ]
  },
  {
   "cell_type": "markdown",
   "metadata": {},
   "source": [
    "### 12)Delete the dictionary and print the dictionary."
   ]
  },
  {
   "cell_type": "code",
   "execution_count": 46,
   "metadata": {},
   "outputs": [
    {
     "ename": "NameError",
     "evalue": "name 'b' is not defined",
     "output_type": "error",
     "traceback": [
      "\u001b[1;31m---------------------------------------------------------------------------\u001b[0m",
      "\u001b[1;31mNameError\u001b[0m                                 Traceback (most recent call last)",
      "Cell \u001b[1;32mIn[46], line 2\u001b[0m\n\u001b[0;32m      1\u001b[0m \u001b[38;5;28;01mdel\u001b[39;00m(b)\n\u001b[1;32m----> 2\u001b[0m \u001b[38;5;28mprint\u001b[39m(\u001b[43mb\u001b[49m)\n",
      "\u001b[1;31mNameError\u001b[0m: name 'b' is not defined"
     ]
    }
   ],
   "source": [
    "del(b)\n",
    "print(b)"
   ]
  },
  {
   "cell_type": "markdown",
   "metadata": {},
   "source": [
    "## **Assignment 2**"
   ]
  },
  {
   "cell_type": "markdown",
   "metadata": {},
   "source": [
    "### 1)What is the difference between = and == in Python?\n"
   ]
  },
  {
   "cell_type": "markdown",
   "metadata": {},
   "source": [
    "### Ans)\n",
    "\"=\" assigns a value to a variable,\"==\" checks if two values are equal and returns True if they are and False if they are not."
   ]
  },
  {
   "cell_type": "markdown",
   "metadata": {},
   "source": [
    "### 2) What is the difference between = and += in Python?\n"
   ]
  },
  {
   "cell_type": "markdown",
   "metadata": {},
   "source": [
    "### Ans)\n",
    "\"=\" is used to set a variable to a specific value, while \"+=\" updates the variable by adding a specified value to its current value.\n"
   ]
  },
  {
   "cell_type": "markdown",
   "metadata": {},
   "source": [
    "### 3)Write the python code to add your marks in 5 subjects and calculate the total marks. (i.e. 85, 95, 90, 80, 100)\n"
   ]
  },
  {
   "cell_type": "code",
   "execution_count": 48,
   "metadata": {},
   "outputs": [
    {
     "name": "stdout",
     "output_type": "stream",
     "text": [
      "450\n"
     ]
    }
   ],
   "source": [
    "marks=[ 85, 95, 90, 80, 100]\n",
    "total_marks=sum(marks)\n",
    "print(total_marks)\n"
   ]
  },
  {
   "cell_type": "markdown",
   "metadata": {},
   "source": [
    "### 4)Write the python code to calculate the average of your marks.\n"
   ]
  },
  {
   "cell_type": "code",
   "execution_count": 49,
   "metadata": {},
   "outputs": [
    {
     "name": "stdout",
     "output_type": "stream",
     "text": [
      "90.0\n"
     ]
    }
   ],
   "source": [
    "average=total_marks/5\n",
    "print(average)"
   ]
  },
  {
   "cell_type": "markdown",
   "metadata": {},
   "source": [
    "### 5)Write the python code to calculate the percentage of your marks.\n"
   ]
  },
  {
   "cell_type": "code",
   "execution_count": 52,
   "metadata": {},
   "outputs": [
    {
     "name": "stdout",
     "output_type": "stream",
     "text": [
      "90.0 %\n"
     ]
    }
   ],
   "source": [
    "percentage=450/500*100\n",
    "print(percentage,\"%\")"
   ]
  },
  {
   "cell_type": "markdown",
   "metadata": {},
   "source": [
    "### 6)Write the python code to compare your marks with your friend's marks and print the result. (i.e. who got more marks) Hint: Use comparison operators. (your friend's marks: 85, 95, 90, 80, 100)\n"
   ]
  },
  {
   "cell_type": "code",
   "execution_count": 62,
   "metadata": {},
   "outputs": [
    {
     "name": "stdout",
     "output_type": "stream",
     "text": [
      "enter your score:\n",
      "enter your friend's score\n",
      "I scored higher than my friend \n"
     ]
    }
   ],
   "source": [
    "print(\"enter your score:\")\n",
    "My_marks=input()\n",
    "print(\"enter your friend's score\")\n",
    "friends_marks=input()\n",
    "if My_marks>friends_marks:\n",
    "    print(\"I scored higher than my friend \")\n",
    "else:print(\"My friend scored higher than me\")\n",
    "\n",
    "     "
   ]
  },
  {
   "cell_type": "markdown",
   "metadata": {},
   "source": [
    "## **Assignment 3**"
   ]
  },
  {
   "cell_type": "markdown",
   "metadata": {},
   "source": [
    "1. Write a python program to check if the number is even or odd.\n"
   ]
  },
  {
   "cell_type": "code",
   "execution_count": 66,
   "metadata": {},
   "outputs": [
    {
     "name": "stdout",
     "output_type": "stream",
     "text": [
      "number is odd\n"
     ]
    }
   ],
   "source": [
    "number=int(input(\"enter a number\"))\n",
    "if number % 2 == 0:\n",
    " print(\"number is even\")\n",
    "else:\n",
    " print(\"number is odd\")\n",
    "\n"
   ]
  },
  {
   "cell_type": "markdown",
   "metadata": {},
   "source": [
    "2. Write a python program to make grade calculator. Hint: A: 90-100, B: 80-89, C: 70-79, D: 60-69, F: <60\n"
   ]
  },
  {
   "cell_type": "code",
   "execution_count": 70,
   "metadata": {},
   "outputs": [
    {
     "name": "stdout",
     "output_type": "stream",
     "text": [
      "B\n"
     ]
    }
   ],
   "source": [
    "grade=int(input(\"enter your grade\"))\n",
    "if grade>=90 and grade <=100:\n",
    "    print(\"A\")\n",
    "elif grade >= 80 and grade < 90:\n",
    "    print(\"B\")\n",
    "elif grade >= 70 and grade < 80:\n",
    "    print(\"C\")\n",
    "elif grade >= 60 and grade < 70:\n",
    "    print(\"D\")\n",
    "else:\n",
    "    print(\"F\")\n"
   ]
  },
  {
   "cell_type": "markdown",
   "metadata": {},
   "source": [
    "3. Write a python program to give discount on the behalf of age. Hint: 0-5: 50%, 5-10: 30%, 10-20: 20%, 20-50: 10%, 50+: 5%"
   ]
  },
  {
   "cell_type": "code",
   "execution_count": 76,
   "metadata": {},
   "outputs": [
    {
     "name": "stdout",
     "output_type": "stream",
     "text": [
      "discount = 50\n"
     ]
    }
   ],
   "source": [
    "\n",
    "age = int(input(\"Enter your age: \"))\n",
    "if age >= 0 and age <= 5:\n",
    "     print (\"discount = 50\")\n",
    "elif age > 5 and age <= 10:\n",
    "    print(\"discount = 30\")\n",
    "elif age > 10 and age <= 20:\n",
    "    print (\"discount = 20\")\n",
    "elif age > 20 and age <= 50:\n",
    "    print (\"discount = 10\")\n",
    "elif age > 50:\n",
    "    print (\"discount = 5\")\n",
    "else:\n",
    "    print(\"invalid age\") "
   ]
  },
  {
   "cell_type": "code",
   "execution_count": null,
   "metadata": {},
   "outputs": [],
   "source": []
  }
 ],
 "metadata": {
  "kernelspec": {
   "display_name": "Python 3",
   "language": "python",
   "name": "python3"
  },
  "language_info": {
   "codemirror_mode": {
    "name": "ipython",
    "version": 3
   },
   "file_extension": ".py",
   "mimetype": "text/x-python",
   "name": "python",
   "nbconvert_exporter": "python",
   "pygments_lexer": "ipython3",
   "version": "3.12.4"
  }
 },
 "nbformat": 4,
 "nbformat_minor": 2
}
