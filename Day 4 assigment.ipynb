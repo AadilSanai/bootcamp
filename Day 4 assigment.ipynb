{
 "cells": [
  {
   "cell_type": "markdown",
   "metadata": {},
   "source": [
    "# *Aadil Sanai*\n",
    "\n",
    "\n",
    "## **Assignment 1- day 4- 1/7/2024**"
   ]
  },
  {
   "cell_type": "markdown",
   "metadata": {},
   "source": [
    "1)Write a python function to calculate the area of a circle."
   ]
  },
  {
   "cell_type": "code",
   "execution_count": 2,
   "metadata": {},
   "outputs": [
    {
     "name": "stdout",
     "output_type": "stream",
     "text": [
      "Area of the circle with radius 5 is 78.53981633974483\n"
     ]
    }
   ],
   "source": [
    "import math\n",
    "\n",
    "def area_of_circle(radius):\n",
    "    return math.pi * radius ** 2\n",
    "\n",
    "# Example usage\n",
    "radius = 5\n",
    "print(f\"Area of the circle with radius {radius} is {area_of_circle(radius)}\")"
   ]
  },
  {
   "cell_type": "markdown",
   "metadata": {},
   "source": [
    "2)Write a python function to calculate the area of a rectangle."
   ]
  },
  {
   "cell_type": "code",
   "execution_count": 3,
   "metadata": {},
   "outputs": [
    {
     "name": "stdout",
     "output_type": "stream",
     "text": [
      "Area of the rectangle with length 4 and width 6 is 24\n"
     ]
    }
   ],
   "source": [
    "def area_of_rectangle(length, width):\n",
    "    return length * width\n",
    "\n",
    "# Example usage\n",
    "length = 4\n",
    "width = 6\n",
    "print(f\"Area of the rectangle with length {length} and width {width} is {area_of_rectangle(length, width)}\")"
   ]
  },
  {
   "cell_type": "markdown",
   "metadata": {},
   "source": [
    "3)Write a python function to calculate the area of a triangle."
   ]
  },
  {
   "cell_type": "code",
   "execution_count": 4,
   "metadata": {},
   "outputs": [
    {
     "name": "stdout",
     "output_type": "stream",
     "text": [
      "Area of the triangle with base 4 and height 5 is 10.0\n"
     ]
    }
   ],
   "source": [
    "def area_of_triangle(base, height):\n",
    "    return 0.5 * base * height\n",
    "\n",
    "# Example usage\n",
    "base = 4\n",
    "height = 5\n",
    "print(f\"Area of the triangle with base {base} and height {height} is {area_of_triangle(base, height)}\")"
   ]
  },
  {
   "cell_type": "markdown",
   "metadata": {},
   "source": [
    "4) Write a python function to calculate the area of a square."
   ]
  },
  {
   "cell_type": "code",
   "execution_count": 5,
   "metadata": {},
   "outputs": [
    {
     "name": "stdout",
     "output_type": "stream",
     "text": [
      "Area of the square with side 4 is 16\n"
     ]
    }
   ],
   "source": [
    "def area_of_square(side):\n",
    "    return side ** 2\n",
    "\n",
    "# Example usage\n",
    "side = 4\n",
    "print(f\"Area of the square with side {side} is {area_of_square(side)}\")"
   ]
  },
  {
   "cell_type": "markdown",
   "metadata": {},
   "source": [
    "5)Find out your best 5 built-in functions in Python and write the use of them."
   ]
  },
  {
   "cell_type": "markdown",
   "metadata": {},
   "source": [
    "here are my 5 best built-in functions in Python and their uses"
   ]
  },
  {
   "cell_type": "code",
   "execution_count": 6,
   "metadata": {},
   "outputs": [
    {
     "name": "stdout",
     "output_type": "stream",
     "text": [
      "5\n",
      "5\n",
      "1\n",
      "15\n",
      "[1, 2, 3, 4, 5]\n"
     ]
    }
   ],
   "source": [
    "# 1. len(): Returns the length of an object (like a string, list, tuple, etc.).\n",
    "my_list = [1, 2, 3, 4, 5]\n",
    "print(len(my_list))  # Output: 5\n",
    "\n",
    "# 2. max(): Returns the largest item in an iterable or the largest of two or more arguments.\n",
    "numbers = [1, 2, 3, 4, 5]\n",
    "print(max(numbers))  # Output: 5\n",
    "\n",
    "# 3. min(): Returns the smallest item in an iterable or the smallest of two or more arguments.\n",
    "numbers = [1, 2, 3, 4, 5]\n",
    "print(min(numbers))  # Output: 1\n",
    "\n",
    "# 4. sum(): Sums the items of an iterable from left to right and returns the total.\n",
    "numbers = [1, 2, 3, 4, 5]\n",
    "print(sum(numbers))  # Output: 15\n",
    "\n",
    "# 5. sorted(): Returns a new sorted list from the items in an iterable.\n",
    "numbers = [5, 2, 1, 4, 3]\n",
    "print(sorted(numbers))  # Output: [1, 2, 3, 4, 5]"
   ]
  },
  {
   "cell_type": "markdown",
   "metadata": {},
   "source": [
    "6)Write a python function to calculate the sum of all numbers in a list."
   ]
  },
  {
   "cell_type": "code",
   "execution_count": 7,
   "metadata": {},
   "outputs": [
    {
     "name": "stdout",
     "output_type": "stream",
     "text": [
      "The sum of the numbers in the list is 15\n"
     ]
    }
   ],
   "source": [
    "def sum_of_list(numbers):\n",
    "    return sum(numbers)\n",
    "\n",
    "# Example usage\n",
    "numbers = [1, 2, 3, 4, 5]\n",
    "print(f\"The sum of the numbers in the list is {sum_of_list(numbers)}\")"
   ]
  },
  {
   "cell_type": "markdown",
   "metadata": {},
   "source": [
    "7) Write a python function to calculate the average of all numbers in a list."
   ]
  },
  {
   "cell_type": "code",
   "execution_count": 8,
   "metadata": {},
   "outputs": [
    {
     "name": "stdout",
     "output_type": "stream",
     "text": [
      "The average of the numbers in the list is 3.0\n"
     ]
    }
   ],
   "source": [
    "def average_of_list(numbers):\n",
    "    return sum(numbers) / len(numbers)\n",
    "\n",
    "# Example usage\n",
    "numbers = [1, 2, 3, 4, 5]\n",
    "print(f\"The average of the numbers in the list is {average_of_list(numbers)}\")"
   ]
  },
  {
   "cell_type": "markdown",
   "metadata": {},
   "source": [
    "## **Assignment 2**"
   ]
  },
  {
   "cell_type": "markdown",
   "metadata": {},
   "source": [
    "1)Write a python class to calculate the area of a circle."
   ]
  },
  {
   "cell_type": "code",
   "execution_count": 9,
   "metadata": {},
   "outputs": [
    {
     "name": "stdout",
     "output_type": "stream",
     "text": [
      "Area of the circle: 78.53981633974483\n"
     ]
    }
   ],
   "source": [
    "import math\n",
    "\n",
    "class Circle:\n",
    "    def __init__(self, radius):\n",
    "        self.radius = radius\n",
    "    \n",
    "    def area(self):\n",
    "        return math.pi * self.radius ** 2\n",
    "\n",
    "# Example usage\n",
    "circle = Circle(5)\n",
    "print(f\"Area of the circle: {circle.area()}\")"
   ]
  },
  {
   "cell_type": "markdown",
   "metadata": {},
   "source": [
    "2)Write a python class to calculate the area of a rectangle."
   ]
  },
  {
   "cell_type": "code",
   "execution_count": 10,
   "metadata": {},
   "outputs": [
    {
     "name": "stdout",
     "output_type": "stream",
     "text": [
      "Area of the rectangle: 24\n"
     ]
    }
   ],
   "source": [
    "class Rectangle:\n",
    "    def __init__(self, length, width):\n",
    "        self.length = length\n",
    "        self.width = width\n",
    "    \n",
    "    def area(self):\n",
    "        return self.length * self.width\n",
    "\n",
    "# Example usage\n",
    "rectangle = Rectangle(4, 6)\n",
    "print(f\"Area of the rectangle: {rectangle.area()}\")"
   ]
  },
  {
   "cell_type": "markdown",
   "metadata": {},
   "source": [
    " 3)Make a class of a student with the following properties: name, age and roll number. Make a method to print the student details!"
   ]
  },
  {
   "cell_type": "code",
   "execution_count": 11,
   "metadata": {},
   "outputs": [
    {
     "name": "stdout",
     "output_type": "stream",
     "text": [
      "Name: Alice, Age: 20, Roll Number: A123\n"
     ]
    }
   ],
   "source": [
    "class Student:\n",
    "    def __init__(self, name, age, roll_number):\n",
    "        self.name = name\n",
    "        self.age = age\n",
    "        self.roll_number = roll_number\n",
    "    \n",
    "    def print_details(self):\n",
    "        print(f\"Name: {self.name}, Age: {self.age}, Roll Number: {self.roll_number}\")\n",
    "\n",
    "# Example usage\n",
    "student = Student(\"Alice\", 20, \"A123\")\n",
    "student.print_details()"
   ]
  },
  {
   "cell_type": "markdown",
   "metadata": {},
   "source": [
    "4)Create a class of a car with the following properties: name, model, year. Make a method to print the car details!"
   ]
  },
  {
   "cell_type": "code",
   "execution_count": 12,
   "metadata": {},
   "outputs": [
    {
     "name": "stdout",
     "output_type": "stream",
     "text": [
      "Name: Toyota, Model: Corolla, Year: 2020\n"
     ]
    }
   ],
   "source": [
    "class Car:\n",
    "    def __init__(self, name, model, year):\n",
    "        self.name = name\n",
    "        self.model = model\n",
    "        self.year = year\n",
    "    \n",
    "    def print_details(self):\n",
    "        print(f\"Name: {self.name}, Model: {self.model}, Year: {self.year}\")\n",
    "\n",
    "# Example usage\n",
    "car = Car(\"Toyota\", \"Corolla\", 2020)\n",
    "car.print_details()"
   ]
  },
  {
   "cell_type": "markdown",
   "metadata": {},
   "source": [
    "5)Write a  Python program to create a class representing a Circle. Include methods to calculate its area and perimeter."
   ]
  },
  {
   "cell_type": "code",
   "execution_count": 13,
   "metadata": {},
   "outputs": [
    {
     "name": "stdout",
     "output_type": "stream",
     "text": [
      "Area of the circle: 78.53981633974483\n",
      "Perimeter of the circle: 31.41592653589793\n"
     ]
    }
   ],
   "source": [
    "import math\n",
    "\n",
    "class Circle:\n",
    "    def __init__(self, radius):\n",
    "        self.radius = radius\n",
    "    \n",
    "    def area(self):\n",
    "        return math.pi * self.radius ** 2\n",
    "    \n",
    "    def perimeter(self):\n",
    "        return 2 * math.pi * self.radius\n",
    "\n",
    "# Example usage\n",
    "circle = Circle(5)\n",
    "print(f\"Area of the circle: {circle.area()}\")\n",
    "print(f\"Perimeter of the circle: {circle.perimeter()}\")"
   ]
  },
  {
   "cell_type": "markdown",
   "metadata": {},
   "source": [
    "6)Write a  Python program to create a person class. Include attributes like name, country and date of birth. Implement a method to determine the person's age.\n"
   ]
  },
  {
   "cell_type": "code",
   "execution_count": 14,
   "metadata": {},
   "outputs": [
    {
     "name": "stdout",
     "output_type": "stream",
     "text": [
      "Name: John Doe, Country: USA, Age: 34\n"
     ]
    }
   ],
   "source": [
    "from datetime import date\n",
    "\n",
    "class Person:\n",
    "    def __init__(self, name, country, date_of_birth):\n",
    "        self.name = name\n",
    "        self.country = country\n",
    "        self.date_of_birth = date_of_birth\n",
    "    \n",
    "    def calculate_age(self):\n",
    "        today = date.today()\n",
    "        dob = date.fromisoformat(self.date_of_birth)\n",
    "        age = today.year - dob.year - ((today.month, today.day) < (dob.month, dob.day))\n",
    "        return age\n",
    "\n",
    "# Example usage\n",
    "person = Person(\"John Doe\", \"USA\", \"1990-01-01\")\n",
    "print(f\"Name: {person.name}, Country: {person.country}, Age: {person.calculate_age()}\")"
   ]
  },
  {
   "cell_type": "markdown",
   "metadata": {},
   "source": []
  },
  {
   "cell_type": "markdown",
   "metadata": {},
   "source": [
    "7)Write a Python program to create a calculator class. Include methods for basic arithmetic operations.\n"
   ]
  },
  {
   "cell_type": "code",
   "execution_count": 15,
   "metadata": {},
   "outputs": [
    {
     "name": "stdout",
     "output_type": "stream",
     "text": [
      "Addition: 15\n",
      "Subtraction: 5\n",
      "Multiplication: 50\n",
      "Division: 2.0\n"
     ]
    }
   ],
   "source": [
    "class Calculator:\n",
    "    def add(self, a, b):\n",
    "        return a + b\n",
    "    \n",
    "    def subtract(self, a, b):\n",
    "        return a - b\n",
    "    \n",
    "    def multiply(self, a, b):\n",
    "        return a * b\n",
    "    \n",
    "    def divide(self, a, b):\n",
    "        if b != 0:\n",
    "            return a / b\n",
    "        else:\n",
    "            return \"Error! Division by zero.\"\n",
    "\n",
    "# Example usage\n",
    "calc = Calculator()\n",
    "print(f\"Addition: {calc.add(10, 5)}\")\n",
    "print(f\"Subtraction: {calc.subtract(10, 5)}\")\n",
    "print(f\"Multiplication: {calc.multiply(10, 5)}\")\n",
    "print(f\"Division: {calc.divide(10, 5)}\")"
   ]
  },
  {
   "cell_type": "markdown",
   "metadata": {},
   "source": [
    "## **Assignment 3**"
   ]
  },
  {
   "cell_type": "markdown",
   "metadata": {},
   "source": [
    "1)Write a Python program that prompts the user to input two numbers and raises a TypeError exception if the inputs are not numerical."
   ]
  },
  {
   "cell_type": "code",
   "execution_count": 16,
   "metadata": {},
   "outputs": [
    {
     "name": "stdout",
     "output_type": "stream",
     "text": [
      "The two numbers are 5.0 and 4.0\n"
     ]
    }
   ],
   "source": [
    "def get_numbers():\n",
    "    try:\n",
    "        num1 = float(input(\"Enter the first number: \"))\n",
    "        num2 = float(input(\"Enter the second number: \"))\n",
    "        return num1, num2\n",
    "    except ValueError:\n",
    "        raise TypeError(\"Both inputs must be numbers\")\n",
    "\n",
    "try:\n",
    "    number1, number2 = get_numbers()\n",
    "    print(f\"The two numbers are {number1} and {number2}\")\n",
    "except TypeError as e:\n",
    "    print(e)"
   ]
  },
  {
   "cell_type": "markdown",
   "metadata": {},
   "source": [
    "2)Write a Python program that prompts the user to input a number and handles a KeyboardInterrupt exception if the user cancels the input"
   ]
  },
  {
   "cell_type": "code",
   "execution_count": 17,
   "metadata": {},
   "outputs": [
    {
     "name": "stdout",
     "output_type": "stream",
     "text": [
      "You entered: 8\n"
     ]
    }
   ],
   "source": [
    "try:\n",
    "    number = input(\"Enter a number: \")\n",
    "    print(f\"You entered: {number}\")\n",
    "except KeyboardInterrupt:\n",
    "    print(\"\\nInput cancelled by the user.\")"
   ]
  },
  {
   "cell_type": "markdown",
   "metadata": {},
   "source": [
    "3)Make a guess the number game. The computer randomly generates a number. The user inputs a number, and the computer will tell you if the number is higher, lower, or correct. The user will keep inputting the number until it is correct. Hint: Use the random module. Also handle the exception if the user inputs a string instead of a number."
   ]
  },
  {
   "cell_type": "code",
   "execution_count": 19,
   "metadata": {},
   "outputs": [
    {
     "name": "stdout",
     "output_type": "stream",
     "text": [
      "Guess the number between 1 and 100. Type 'exit' to quit the game.\n",
      "Game exited.\n"
     ]
    }
   ],
   "source": [
    "import random\n",
    "\n",
    "def guess_the_number():\n",
    "    number_to_guess = random.randint(1, 100)\n",
    "    print(f\"Guess the number between 1 and 100. Type 'exit' to quit the game.\")\n",
    "\n",
    "    while True:\n",
    "        try:\n",
    "            user_input = input(\"Enter your guess: \")\n",
    "            \n",
    "            if user_input.lower() == 'exit':\n",
    "                print(\"Game exited.\")\n",
    "                break\n",
    "            \n",
    "            guess = int(user_input)\n",
    "            \n",
    "            if guess < number_to_guess:\n",
    "                print(\"Higher\")\n",
    "            elif guess > number_to_guess:\n",
    "                print(\"Lower\")\n",
    "            else:\n",
    "                print(\"Correct! You've guessed the number.\")\n",
    "                break\n",
    "        except ValueError:\n",
    "            print(\"Invalid input. Please enter a valid number or type 'exit' to quit.\")\n",
    "\n",
    "# Start the game\n",
    "guess_the_number()"
   ]
  },
  {
   "cell_type": "markdown",
   "metadata": {},
   "source": [
    "## **Assignment 4**"
   ]
  },
  {
   "cell_type": "markdown",
   "metadata": {},
   "source": [
    " 1)Write a Python program to read a file and print the content of the file."
   ]
  },
  {
   "cell_type": "code",
   "execution_count": 37,
   "metadata": {},
   "outputs": [
    {
     "name": "stdout",
     "output_type": "stream",
     "text": [
      "<_io.TextIOWrapper name='file.txt' mode='r' encoding='cp1252'>\n",
      "hello my name is AAdil , hope you are doing great\n"
     ]
    }
   ],
   "source": [
    "f=open(\"file.txt\",\"r\")\n",
    "print(f)\n",
    "print(f.read())\n",
    "f.close()"
   ]
  },
  {
   "cell_type": "markdown",
   "metadata": {},
   "source": [
    "2)Write a Python program to read a file and print the first 5 lines of the file."
   ]
  },
  {
   "cell_type": "code",
   "execution_count": 41,
   "metadata": {},
   "outputs": [
    {
     "name": "stdout",
     "output_type": "stream",
     "text": [
      "<_io.TextIOWrapper name='file.txt' mode='r' encoding='cp1252'>\n",
      "hello\n"
     ]
    }
   ],
   "source": [
    "f=open(\"file.txt\",\"r\")\n",
    "print(f)\n",
    "print(f.read(5))\n",
    "f.close()"
   ]
  },
  {
   "cell_type": "markdown",
   "metadata": {},
   "source": [
    "3) Write a Python program to read a file and print the first 5 characters of the file."
   ]
  },
  {
   "cell_type": "code",
   "execution_count": 43,
   "metadata": {},
   "outputs": [
    {
     "name": "stdout",
     "output_type": "stream",
     "text": [
      "hello my name is AAdil , hope you are doing great\n",
      "\n",
      "i am passout of class 10\n",
      "\n",
      "i live in hyderabad\n",
      "\n",
      "I am 16 years old\n",
      "\n",
      "i like to play badminton\n",
      "\n"
     ]
    }
   ],
   "source": [
    "with open('file.txt', 'r') as file:\n",
    "    for _ in range(5):\n",
    "        print(file.readline())"
   ]
  },
  {
   "cell_type": "markdown",
   "metadata": {},
   "source": [
    "4)- Write a Python program to read a file and print the last 5 lines of the file.\n"
   ]
  },
  {
   "cell_type": "code",
   "execution_count": 46,
   "metadata": {},
   "outputs": [
    {
     "name": "stdout",
     "output_type": "stream",
     "text": [
      "i live wuith my family\n",
      "\n",
      "i want to be a software engineer\n",
      "\n",
      "i spend  my day in sleeping, praying,playing games \n",
      "\n",
      "and eating\n",
      "\n",
      "\n",
      "\n"
     ]
    }
   ],
   "source": [
    "with open('file.txt', 'r') as file:\n",
    "    lines = file.readlines()\n",
    "    for line in lines[-5:]:\n",
    "        print(line)"
   ]
  }
 ],
 "metadata": {
  "kernelspec": {
   "display_name": "Python 3",
   "language": "python",
   "name": "python3"
  },
  "language_info": {
   "codemirror_mode": {
    "name": "ipython",
    "version": 3
   },
   "file_extension": ".py",
   "mimetype": "text/x-python",
   "name": "python",
   "nbconvert_exporter": "python",
   "pygments_lexer": "ipython3",
   "version": "3.12.4"
  }
 },
 "nbformat": 4,
 "nbformat_minor": 2
}
