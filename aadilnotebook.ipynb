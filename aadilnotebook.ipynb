{
 "cells": [
  {
   "cell_type": "markdown",
   "metadata": {},
   "source": [
    "# *Aadil Sanai*\n",
    "\n",
    "\n",
    "## **Assignment 1- day 1- 13/6/2024**"
   ]
  },
  {
   "cell_type": "markdown",
   "metadata": {},
   "source": [
    "### 1)what are reserved words?"
   ]
  },
  {
   "cell_type": "markdown",
   "metadata": {},
   "source": [
    "### Ans:\n",
    "    Reserved words are those words which are special and fixed, they have predifined  meaning and are used for an individual or particular task . \n",
    "\n",
    "\n",
    "\n",
    "\n",
    "#### Examples:    "
   ]
  },
  {
   "cell_type": "code",
   "execution_count": 7,
   "metadata": {},
   "outputs": [
    {
     "name": "stdout",
     "output_type": "stream",
     "text": [
      "\n"
     ]
    },
    {
     "data": {
      "text/plain": [
       "float"
      ]
     },
     "execution_count": 7,
     "metadata": {},
     "output_type": "execute_result"
    }
   ],
   "source": [
    "print()\n",
    "bool\n",
    "int \n",
    "float "
   ]
  },
  {
   "cell_type": "markdown",
   "metadata": {},
   "source": [
    "### 2) what is difference between single and double quotes in Python?\n"
   ]
  },
  {
   "cell_type": "markdown",
   "metadata": {},
   "source": [
    "### Ans:\n",
    "    The main difference between single and double quotes in Python is how they handle the inclusion of the other type of quote within a string. Single quotes allow you to freely include double quotes inside the string without any extra treatment, and the same applies to double quotes allowing single quotes inside. \n",
    "\n",
    "  #### Examples:"
   ]
  },
  {
   "cell_type": "code",
   "execution_count": 11,
   "metadata": {},
   "outputs": [
    {
     "name": "stdout",
     "output_type": "stream",
     "text": [
      "hello, how are you!\n",
      "hope you are doing great!\n"
     ]
    }
   ],
   "source": [
    "# Single quotes\n",
    "single_quote_str = 'hello, how are you!'\n",
    "print(single_quote_str)\n",
    "\n",
    "# Double quotes\n",
    "double_quote_str = \"hope you are doing great!\"\n",
    "print(double_quote_str)\n"
   ]
  },
  {
   "cell_type": "markdown",
   "metadata": {},
   "source": [
    "### 3)What is the difference between variable and identifier?"
   ]
  },
  {
   "cell_type": "markdown",
   "metadata": {},
   "source": [
    "### Ans:\n",
    "     Variable : A variable in Python is like a container that holds a value. It's a way to give a name to data so you can use it later in your code. Variables can store different types of data like numbers, strings, or lists. \n",
    "     \n",
    "     Identifier : An identifier, on the other hand, is like a name tag or label used to identify different elements in a program, such as variables, functions, classes, etc. It's the name you give to something to refer to it in your code.\n",
    "\n",
    " #### Examples: \n"
   ]
  },
  {
   "cell_type": "code",
   "execution_count": 9,
   "metadata": {},
   "outputs": [],
   "source": [
    "age = 25                          #Variable\n",
    "\n",
    "student_name = \"Aadil Sanai\"      #Identifier \n"
   ]
  },
  {
   "cell_type": "markdown",
   "metadata": {},
   "source": [
    "### 4) What is the difference between variable and constant?\n",
    "### Ans: \n",
    "   *  Variable: A variable is a named storage location in a program's memory that can hold different values during its lifetime. Variables can be assigned a value, and that value can be changed or updated throughout the program's execution. \n",
    "   \n",
    "\n",
    "   * Constant: A constant, on the other hand, is a value that remains unchanged throughout the program. Once a constant is defined and assigned a value, it cannot be modified or reassigned throughout the program's execution. Constants are typically used for values that are expected to remain fixed, such as mathematical constants (e.g., π) or configuration settings that should not be altered during runtime.    \n",
    "\n",
    "   #### Examples:\n",
    "   "
   ]
  },
  {
   "cell_type": "markdown",
   "metadata": {},
   "source": []
  },
  {
   "cell_type": "code",
   "execution_count": 10,
   "metadata": {},
   "outputs": [
    {
     "name": "stdout",
     "output_type": "stream",
     "text": [
      "Initial value of x: 5\n",
      "Updated value of x: 10\n",
      "Value of PI: 3.14159\n"
     ]
    }
   ],
   "source": [
    "# Variable assignment\n",
    "x = 5\n",
    "print(\"Initial value of x:\", x)\n",
    "\n",
    "# Update variable value\n",
    "x = 10\n",
    "print(\"Updated value of x:\", x)\n",
    "\n",
    "\n",
    "\n",
    "# Constant declaration (typically represented in Python by naming convention)\n",
    "PI = 3.14159\n",
    "print(\"Value of PI:\", PI)\n",
    "\n",
    "# Attempt to change constant value (will result in an error)\n",
    "PI = 3.14  # This will raise an error: \"SyntaxError: cannot assign to variable named 'PI'\n",
    "\n",
    "\n"
   ]
  },
  {
   "cell_type": "markdown",
   "metadata": {},
   "source": []
  }
 ],
 "metadata": {
  "kernelspec": {
   "display_name": "Python 3",
   "language": "python",
   "name": "python3"
  },
  "language_info": {
   "codemirror_mode": {
    "name": "ipython",
    "version": 3
   },
   "file_extension": ".py",
   "mimetype": "text/x-python",
   "name": "python",
   "nbconvert_exporter": "python",
   "pygments_lexer": "ipython3",
   "version": "3.12.4"
  }
 },
 "nbformat": 4,
 "nbformat_minor": 2
}
