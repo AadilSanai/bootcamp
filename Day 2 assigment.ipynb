{
 "cells": [
  {
   "cell_type": "markdown",
   "metadata": {},
   "source": [
    "# *Aadil Sanai*\n",
    "\n",
    "\n",
    "## **Assignment 1- day 2- 20/6/2024**"
   ]
  },
  {
   "cell_type": "markdown",
   "metadata": {},
   "source": [
    "### 1)Make a list of 5 students and print the list.\n",
    "     "
   ]
  },
  {
   "cell_type": "code",
   "execution_count": null,
   "metadata": {},
   "outputs": [
    {
     "name": "stdout",
     "output_type": "stream",
     "text": [
      "['Aadil', 'Ahmed', 'Ahsan', 'Haseeb', 'Bilal', 'Ali']\n"
     ]
    }
   ],
   "source": [
    "students=[\"Aadil\",\"Ahmed\",\"Ahsan\",\"Haseeb\",\"Bilal\",\"Ali\"]\n",
    "print(students)\n",
    "\n",
    "\n"
   ]
  },
  {
   "cell_type": "markdown",
   "metadata": {},
   "source": []
  },
  {
   "cell_type": "markdown",
   "metadata": {},
   "source": [
    "### 2) Add 2 more students in the list and print the updated list."
   ]
  },
  {
   "cell_type": "code",
   "execution_count": null,
   "metadata": {},
   "outputs": [
    {
     "name": "stdout",
     "output_type": "stream",
     "text": [
      "['Aadil', 'Ahmed', 'Ahsan', 'Haseeb', 'Bilal', 'Ali', 'Usman', 'Raza']\n"
     ]
    }
   ],
   "source": [
    "students.append(\"Usman\")\n",
    "students.append(\"Raza\")\n",
    "\n",
    "print(students)"
   ]
  },
  {
   "cell_type": "markdown",
   "metadata": {},
   "source": [
    "### 3) Remove 2 students from the list and print the updated list."
   ]
  },
  {
   "cell_type": "code",
   "execution_count": null,
   "metadata": {},
   "outputs": [
    {
     "name": "stdout",
     "output_type": "stream",
     "text": [
      "['Ahmed', 'Ahsan', 'Haseeb', 'Bilal', 'Usman', 'Raza']\n"
     ]
    }
   ],
   "source": [
    "\n",
    "students=['Aadil', 'Ahmed', 'Ahsan', 'Haseeb', 'Bilal', 'Ali', 'Usman', 'Raza']\n",
    "students.remove(\"Aadil\")\n",
    "students.remove(\"Ali\")\n",
    "\n",
    "print(students)"
   ]
  },
  {
   "cell_type": "markdown",
   "metadata": {},
   "source": [
    "### 4) Sort the list in ascending order and print the updated list.\n"
   ]
  },
  {
   "cell_type": "code",
   "execution_count": null,
   "metadata": {},
   "outputs": [
    {
     "name": "stdout",
     "output_type": "stream",
     "text": [
      "list in ascending order ['Ahmed', 'Ahsan', 'Bilal', 'Haseeb', 'Raza', 'Usman']\n"
     ]
    }
   ],
   "source": [
    "students.sort()\n",
    "print(\"list in ascending order\",students)\n"
   ]
  },
  {
   "cell_type": "markdown",
   "metadata": {},
   "source": [
    "### 5)  Reverse the list and print the updated list.\n"
   ]
  },
  {
   "cell_type": "code",
   "execution_count": null,
   "metadata": {},
   "outputs": [
    {
     "name": "stdout",
     "output_type": "stream",
     "text": [
      "the reversed list is ['Usman', 'Raza', 'Haseeb', 'Bilal', 'Ahsan', 'Ahmed']\n"
     ]
    }
   ],
   "source": [
    "students.reverse()\n",
    "print(\"the reversed list is\",students)\n"
   ]
  },
  {
   "cell_type": "markdown",
   "metadata": {},
   "source": [
    "### 6) Clear the list and print the updated list."
   ]
  },
  {
   "cell_type": "code",
   "execution_count": null,
   "metadata": {},
   "outputs": [
    {
     "name": "stdout",
     "output_type": "stream",
     "text": [
      "list is cleared []\n"
     ]
    }
   ],
   "source": [
    "students.clear()\n",
    "print(\"list is cleared\",students)\n"
   ]
  },
  {
   "cell_type": "markdown",
   "metadata": {},
   "source": [
    "## **Assignment 2**"
   ]
  },
  {
   "cell_type": "markdown",
   "metadata": {},
   "source": [
    "### 1)  What is the difference between list and tuple?"
   ]
  },
  {
   "cell_type": "markdown",
   "metadata": {},
   "source": [
    "### Ans\n",
    " The main differece between list and tuple is that list can be changed or updated whenever we want, whereas, tuple \n",
    "can't be changed or updated and that particular tuple will be same throughout the program"
   ]
  },
  {
   "cell_type": "markdown",
   "metadata": {},
   "source": [
    "### 2) Make a tuple that contain only one item and print the type of the tuple"
   ]
  },
  {
   "cell_type": "code",
   "execution_count": null,
   "metadata": {},
   "outputs": [
    {
     "name": "stdout",
     "output_type": "stream",
     "text": [
      "('plates',)\n"
     ]
    }
   ],
   "source": [
    "crockery= (\"plates\",)\n",
    "print(crockery)"
   ]
  },
  {
   "cell_type": "markdown",
   "metadata": {},
   "source": [
    "### 3) Make a tuple of 5 items and print the tuple.\n"
   ]
  },
  {
   "cell_type": "code",
   "execution_count": null,
   "metadata": {},
   "outputs": [
    {
     "name": "stdout",
     "output_type": "stream",
     "text": [
      "('bread', 'milk', 'vegetables', 'dishwashers', 'soaps', 'vegetables')\n"
     ]
    }
   ],
   "source": [
    "groceries=(\"bread\",\"milk\",\"vegetables\",\"dishwashers\",\"soaps\",\"vegetables\")\n",
    "print(groceries)"
   ]
  },
  {
   "cell_type": "markdown",
   "metadata": {},
   "source": [
    "### 4) Find the index of a specific item in the tuple"
   ]
  },
  {
   "cell_type": "code",
   "execution_count": null,
   "metadata": {},
   "outputs": [
    {
     "data": {
      "text/plain": [
       "1"
      ]
     },
     "execution_count": 63,
     "metadata": {},
     "output_type": "execute_result"
    }
   ],
   "source": [
    "\n",
    "groceries.index(\"milk\")\n",
    "\n",
    "\n"
   ]
  },
  {
   "cell_type": "markdown",
   "metadata": {},
   "source": [
    "### 5)Find the count of a specific item in the tuple"
   ]
  },
  {
   "cell_type": "code",
   "execution_count": null,
   "metadata": {},
   "outputs": [
    {
     "data": {
      "text/plain": [
       "2"
      ]
     },
     "execution_count": 66,
     "metadata": {},
     "output_type": "execute_result"
    }
   ],
   "source": [
    "groceries.count(\"vegetables\")"
   ]
  },
  {
   "cell_type": "markdown",
   "metadata": {},
   "source": [
    "### 6)Find the length of the tuple"
   ]
  },
  {
   "cell_type": "code",
   "execution_count": null,
   "metadata": {},
   "outputs": [
    {
     "data": {
      "text/plain": [
       "6"
      ]
     },
     "execution_count": 67,
     "metadata": {},
     "output_type": "execute_result"
    }
   ],
   "source": [
    "groceries.__len__()"
   ]
  },
  {
   "cell_type": "markdown",
   "metadata": {},
   "source": [
    "### 7)Find the maximum and minimum item in the tuple."
   ]
  },
  {
   "cell_type": "code",
   "execution_count": null,
   "metadata": {},
   "outputs": [
    {
     "name": "stdout",
     "output_type": "stream",
     "text": [
      "maximum number is 12\n",
      "minimum number is 2\n"
     ]
    }
   ],
   "source": [
    "# finding Maximum\n",
    "numbers= (7,3,12,2,5)\n",
    "print(\"maximum number is\",max(numbers))\n",
    "\n",
    "# finding minimum\n",
    "print(\"minimum number is\",min(numbers))\n"
   ]
  },
  {
   "cell_type": "markdown",
   "metadata": {},
   "source": [
    "### 8)Find the sum of all items in the tuple."
   ]
  },
  {
   "cell_type": "code",
   "execution_count": null,
   "metadata": {},
   "outputs": [
    {
     "data": {
      "text/plain": [
       "29"
      ]
     },
     "execution_count": 75,
     "metadata": {},
     "output_type": "execute_result"
    }
   ],
   "source": [
    "sum(numbers)\n"
   ]
  },
  {
   "cell_type": "markdown",
   "metadata": {},
   "source": [
    "### 9)Sort the tuple in ascending order and print the updated tuple."
   ]
  },
  {
   "cell_type": "code",
   "execution_count": null,
   "metadata": {},
   "outputs": [
    {
     "data": {
      "text/plain": [
       "[2, 3, 5, 7, 12]"
      ]
     },
     "execution_count": 77,
     "metadata": {},
     "output_type": "execute_result"
    }
   ],
   "source": [
    "sorted(numbers)\n"
   ]
  },
  {
   "cell_type": "markdown",
   "metadata": {},
   "source": [
    "### 10)Sort the tuple in descending order and print the updated tuple."
   ]
  },
  {
   "cell_type": "code",
   "execution_count": null,
   "metadata": {},
   "outputs": [
    {
     "name": "stdout",
     "output_type": "stream",
     "text": [
      "Sorted tuple in descending order: ('12', '7', '5', '3', '2')\n"
     ]
    }
   ],
   "source": [
    "numbers = (\"7\", \"3\", \"12\", \"2\", \"5\")\n",
    "\n",
    "# Sort the tuple in descending order\n",
    "sorted_numbers_desc = tuple(sorted(numbers, key=int, reverse=True))\n",
    "\n",
    "# Print the result\n",
    "print(\"Sorted tuple in descending order:\", sorted_numbers_desc)\n"
   ]
  },
  {
   "cell_type": "markdown",
   "metadata": {},
   "source": [
    "### 11)Clear the tuple and print the updated tuple."
   ]
  },
  {
   "cell_type": "code",
   "execution_count": null,
   "metadata": {},
   "outputs": [
    {
     "name": "stdout",
     "output_type": "stream",
     "text": [
      "()\n"
     ]
    }
   ],
   "source": [
    "sorted_numbers_desc2=list(sorted_numbers_desc)\n",
    "sorted_numbers_desc2.clear()\n",
    "sorted_numbers_desc=tuple(sorted_numbers_desc2)\n",
    "print(sorted_numbers_desc)\n"
   ]
  },
  {
   "cell_type": "markdown",
   "metadata": {},
   "source": [
    "### 12)Delete the tuple and print the tuple."
   ]
  },
  {
   "cell_type": "code",
   "execution_count": 103,
   "metadata": {},
   "outputs": [],
   "source": [
    "sorted_numbers_desc=()\n",
    "del(sorted_numbers_desc)\n"
   ]
  },
  {
   "cell_type": "markdown",
   "metadata": {},
   "source": [
    " ### 13)Concatenate two tuples and print the updated tuple."
   ]
  },
  {
   "cell_type": "code",
   "execution_count": 105,
   "metadata": {},
   "outputs": [
    {
     "name": "stdout",
     "output_type": "stream",
     "text": [
      "(1, 2, 3, 4, 5, 6, 7, 8, 9, 10)\n"
     ]
    }
   ],
   "source": [
    "tuple1=(1,2,3,4,5)\n",
    "tuple2=(6,7,8,9,10)\n",
    "concatenated_tuple=(tuple1+tuple2)\n",
    "print(concatenated_tuple)"
   ]
  },
  {
   "cell_type": "markdown",
   "metadata": {},
   "source": [
    "### 14)Repeat the tuple 3 times and print the updated tuple"
   ]
  },
  {
   "cell_type": "code",
   "execution_count": 111,
   "metadata": {},
   "outputs": [
    {
     "name": "stdout",
     "output_type": "stream",
     "text": [
      "('Aadil', 'Bilal', 'Ali', 'Azan', 'Aadil', 'Bilal', 'Ali', 'Azan', 'Aadil', 'Bilal', 'Ali', 'Azan')\n"
     ]
    }
   ],
   "source": [
    "names=(\"Aadil\",\"Bilal\",\"Ali\",\"Azan\")\n",
    "print(names*3)"
   ]
  }
 ],
 "metadata": {
  "kernelspec": {
   "display_name": "Python 3",
   "language": "python",
   "name": "python3"
  },
  "language_info": {
   "codemirror_mode": {
    "name": "ipython",
    "version": 3
   },
   "file_extension": ".py",
   "mimetype": "text/x-python",
   "name": "python",
   "nbconvert_exporter": "python",
   "pygments_lexer": "ipython3",
   "version": "3.12.4"
  }
 },
 "nbformat": 4,
 "nbformat_minor": 2
}
